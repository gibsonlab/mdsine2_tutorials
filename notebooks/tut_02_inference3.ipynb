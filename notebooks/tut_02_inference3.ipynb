{
  "cells": [
    {
      "cell_type": "markdown",
      "metadata": {
        "id": "u2BEXxAQmqkL"
      },
      "source": [
        " [![Open In Colab](https://colab.research.google.com/assets/colab-badge.svg)](https://colab.research.google.com/github/gibsonlab/mdsine2_tutorials/blob/main/notebooks/tut_02_inference.ipynb)\n",
        " # Running inference with the MDSINE2 model and exploring the posterior"
      ]
    },
    {
      "cell_type": "code",
      "execution_count": null,
      "metadata": {
        "id": "oP2nxgOpmqkL"
      },
      "outputs": [],
      "source": [
        "import sys\n",
        "IN_COLAB = 'google.colab' in sys.modules\n",
        "\n",
        "if IN_COLAB:\n",
        "    !curl -LJO https://github.com/gibsonlab/mdsine2_tutorials/raw/main/data/raw_tables.zip\n",
        "    !mkdir -p ./data/ && unzip raw_tables.zip -d ./data/\n",
        "\n",
        "    !git clone https://github.com/gerberlab/MDSINE2\n",
        "    !cd MDSINE2 && git fetch && git checkout cv-wip-mirror-dem\n",
        "    !pip install MDSINE2/."
      ]
    },
    {
      "cell_type": "code",
      "execution_count": null,
      "metadata": {
        "id": "ikw9Q3DMmqkM"
      },
      "outputs": [],
      "source": [
        "import mdsine2 as md2\n",
        "from mdsine2.names import STRNAMES\n",
        "from pathlib import Path\n",
        "import matplotlib.pyplot as plt \n",
        "import numpy as np \n"
      ]
    },
    {
      "cell_type": "markdown",
      "metadata": {
        "id": "qmD3T5kamqkM"
      },
      "source": [
        " # Loading data\n",
        " Here we load a small preprocessed \"toy\" dataset created in the previous tutorial."
      ]
    },
    {
      "cell_type": "code",
      "execution_count": null,
      "metadata": {
        "id": "4-zvkQo4mqkN"
      },
      "outputs": [],
      "source": [
        "replicates_dir = Path('../data/replicates-toy')\n",
        "healthy_dir = Path('../data/healthy-toy')\n",
        "unhealthy_dir = Path('../data/unhealthy-toy')\n",
        "\n",
        "output_dir = Path('../output/')\n",
        "fig_dir = Path('../figs/')\n",
        "\n",
        "output_dir.mkdir(exist_ok=True, parents=True)\n",
        "fig_dir.mkdir(exist_ok=True, parents=True)\n"
      ]
    },
    {
      "cell_type": "code",
      "execution_count": null,
      "metadata": {
        "id": "lW_odGoQmqkN"
      },
      "outputs": [],
      "source": [
        "# # Read data\n",
        "studies = []\n",
        "for data_dir in [replicates_dir, healthy_dir, unhealthy_dir]:\n",
        "    tsv_files = sorted(data_dir.glob('*.tsv'))\n",
        "    tsv_files = {f.stem : f for f in tsv_files}\n",
        "\n",
        "    # Read data into study object\n",
        "    study = md2.dataset.parse(\n",
        "        name = data_dir.stem,\n",
        "        metadata = tsv_files['metadata'],\n",
        "        taxonomy = tsv_files['rdp_species'],\n",
        "        reads = tsv_files['counts'],\n",
        "        qpcr = tsv_files['qpcr'],\n",
        "        perturbations = tsv_files['perturbations'],\n",
        "    )\n",
        "    studies.append(study)\n",
        "\n",
        "replicates, healthy, unhealthy = studies\n"
      ]
    },
    {
      "cell_type": "markdown",
      "metadata": {
        "id": "4R-hKQ64mqkN"
      },
      "source": [
        " # Learning the Negative Binomial dispersion parameters\n",
        " Before running the main inference loop we learn the negative binomial parameters from our physical replicates.\n",
        " Then, we build the compute graph for learning the model that is used to learn negative binomial parameters."
      ]
    },
    {
      "cell_type": "code",
      "execution_count": null,
      "metadata": {
        "id": "1kF4gYA-mqkO"
      },
      "outputs": [],
      "source": [
        "# set negative binomial model inference parameters\n",
        "params = md2.config.NegBinConfig(\n",
        "    seed=0, burnin=100, n_samples=200,\n",
        "    checkpoint=100, \n",
        "    basepath=str(output_dir / \"negbin\")\n",
        ")\n",
        "\n",
        "# Build the compute graph to learn negative binomial parameters\n",
        "mcmc_negbin = md2.negbin.build_graph(\n",
        "    params=params, \n",
        "    graph_name=replicates.name, \n",
        "    subjset=replicates\n",
        "    )\n",
        "\n",
        "# Run inference to learn the negative binomial parameters\n",
        "mcmc_negbin = md2.negbin.run_graph(\n",
        "    mcmc_negbin, \n",
        "    crash_if_error=True\n",
        ")\n",
        "\n",
        "# Print a summary of a0 and a1 posterior\n",
        "print('a0', md2.summary(mcmc_negbin.graph[STRNAMES.NEGBIN_A0]))\n",
        "print('a1', md2.summary(mcmc_negbin.graph[STRNAMES.NEGBIN_A1]))\n"
      ]
    },
    {
      "cell_type": "markdown",
      "metadata": {
        "id": "F1Bo8CQ-mqkO"
      },
      "source": [
        " Here we visualize the fit of the learned negative binomial model. This is not representative of the real results because we only have the 15 of the most abundant taxa here."
      ]
    },
    {
      "cell_type": "code",
      "execution_count": null,
      "metadata": {
        "id": "OGHeZUnjmqkP"
      },
      "outputs": [],
      "source": [
        "fig = md2.negbin.visualize_learned_negative_binomial_model(mcmc_negbin)\n",
        "fig.tight_layout()\n",
        "plt.savefig(fig_dir / 'negbin_fit.png')\n"
      ]
    },
    {
      "cell_type": "markdown",
      "metadata": {
        "id": "FDSEdqDTmqkQ"
      },
      "source": [
        " # Run inference on the full model\n",
        " ### Initialize and set model hyperparameters\n",
        " Here we use the learned parameters from the negative binomial model to run inference with the full model. First, we'll create a routine that takes our mcmc object as input and plots posterior quantities."
      ]
    },
    {
      "cell_type": "code",
      "execution_count": null,
      "metadata": {
        "id": "jTT8OLX5mqkQ"
      },
      "outputs": [],
      "source": [
        "def visualize(mcmc, study, seed):\n",
        "    \"\"\" Viz posteriors.\n",
        "    \"\"\"\n",
        "    growth = mcmc.graph[STRNAMES.GROWTH_VALUE]\n",
        "    growth_rates_trace = growth.get_trace_from_disk(section='entire')\n",
        "\n",
        "    growth_rates_mean = md2.summary(growth)['mean']\n",
        "    print('Mean growth rates for taxa over posterior', growth_rates_mean)\n",
        "\n",
        "    # Visualize trace for the first taxa\n",
        "    md2.visualization.render_trace(growth_rates_trace[:,0], n_burnin=50, **{'title': 'OTU_1 Growth rate'})\n",
        "    plt.savefig(fig_dir / 'posterior_growth_rates_{:04d}.png'.format(seed))\n",
        "\n",
        "    # Process variance\n",
        "    processvar = mcmc.graph[STRNAMES.PROCESSVAR]\n",
        "    pv_rates_trace = processvar.get_trace_from_disk(section='entire')\n",
        "\n",
        "    md2.visualization.render_trace(pv_rates_trace, n_burnin=50, **{'title': 'process variance'})\n",
        "    plt.savefig(fig_dir / 'posterior_process_variance_{:04d}.png'.format(seed))\n",
        "\n",
        "    # Taxa module assignments\n",
        "    clustering = mcmc.graph[STRNAMES.CLUSTERING_OBJ]\n",
        "    md2.generate_cluster_assignments_posthoc(clustering, set_as_value=True)\n",
        "    taxa = mcmc.graph.data.taxa\n",
        "\n",
        "    # Visualize co-cluster posterior probability\n",
        "    coclusters = md2.summary(mcmc.graph[STRNAMES.CLUSTERING_OBJ].coclusters)['mean']\n",
        "    md2.visualization.render_cocluster_probabilities(coclusters, taxa=study.taxa,\n",
        "        yticklabels='%(paperformat)s | %(index)s')#, order=order)\n",
        "    plt.savefig(fig_dir / 'posterior_cocluster_probs_{:04d}.png'.format(seed))\n",
        "\n",
        "    # Visualize trace for number of modules\n",
        "    md2.visualization.render_trace(clustering.n_clusters)\n",
        "    plt.savefig(fig_dir / 'posterior_num_modules_trace_{:04d}.png'.format(seed))\n",
        "\n"
      ]
    },
    {
      "cell_type": "markdown",
      "metadata": {
        "id": "dRS8Sp_NmqkQ"
      },
      "source": [
        " Here we run inference, iterate through different seed values."
      ]
    },
    {
      "cell_type": "code",
      "execution_count": null,
      "metadata": {
        "id": "MR5p_swQmqkR"
      },
      "outputs": [],
      "source": [
        "# Get a0 and a1 from negbin (get the mean of the posterior) and fixes them for inference\n",
        "a0 = md2.summary(mcmc_negbin.graph[STRNAMES.NEGBIN_A0])['mean']\n",
        "a1 = md2.summary(mcmc_negbin.graph[STRNAMES.NEGBIN_A1])['mean']\n",
        "\n",
        "# Save a0 and a1 for next tutorial\n",
        "np.savez('./negbin_params.npz', a0=a0, a1=a1)\n",
        "\n",
        "seeds = [0, 1]\n",
        "chains = []\n",
        "\n",
        "for seed in seeds:\n",
        "    chain_basepath = output_dir / \"mdsine2\" / (unhealthy.name + \"{:04d}\".format(seed))\n",
        "    chain_basepath.mkdir(exist_ok=True, parents=True)\n",
        "\n",
        "    # Initialize parameters of the model \n",
        "    params = md2.config.MDSINE2ModelConfig(\n",
        "        basepath=str(chain_basepath), \n",
        "        seed=seed,\n",
        "        burnin=50, \n",
        "        n_samples=100, \n",
        "        negbin_a0=a0, negbin_a1=a1, \n",
        "        checkpoint=50\n",
        "    )\n",
        "\n",
        "    # The default number of modules is 30, which is larger than the number of taxa\n",
        "    # that we have in this dataset, which would throw a flag.\n",
        "    params.INITIALIZATION_KWARGS[STRNAMES.CLUSTERING]['value_option'] = 'no-clusters'\n",
        "\n",
        "    # Initilize the graph\n",
        "    mcmc = md2.initialize_graph(params=params, graph_name=unhealthy.name, subjset=unhealthy)\n",
        "\n",
        "    # Perform inference\n",
        "    mcmc = md2.run_graph(mcmc, crash_if_error=True)\n",
        "\n",
        "    visualize(mcmc, unhealthy, seed)\n",
        "    chains.append(mcmc)\n"
      ]
    },
    {
      "cell_type": "code",
      "execution_count": null,
      "metadata": {
        "id": "nxTDPTwImqkR"
      },
      "outputs": [],
      "source": [
        "start = 10\n",
        "end = 20\n",
        "vname = STRNAMES.GROWTH_VALUE\n",
        "\n",
        "rhat = md2.pylab.inference.r_hat(chains, start=start, end=end, vname=vname)\n",
        "print('Growth parameter r-hat:', rhat)\n",
        "\n",
        "vname = STRNAMES.CONCENTRATION\n",
        "rhat = md2.pylab.inference.r_hat(chains, start=start, end=end, vname=vname)\n",
        "print('Concentration parameter r-hat:', rhat)\n",
        "\n",
        "vname = STRNAMES.PROCESSVAR\n",
        "rhat = md2.pylab.inference.r_hat(chains, start=start, end=end, vname=vname)\n",
        "print('Process variance parameter r-hat:', rhat)\n"
      ]
    },
    {
      "cell_type": "code",
      "execution_count": null,
      "metadata": {
        "id": "iO-m82vHmqkR"
      },
      "outputs": [],
      "source": [
        "# Consennss clustering\n",
        "basepath = output_dir / 'mdsine2-fixed-cluster'\n",
        "basepath.mkdir(exist_ok=True)\n",
        "\n",
        "# Use the clustering from a previous as the clustering assignment\n",
        "params = md2.config.MDSINE2ModelConfig(\n",
        "    basepath=basepath, seed=0, burnin=50, n_samples=100, \n",
        "    negbin_a0=a0, negbin_a1=a1, checkpoint=50)\n",
        "\n",
        "# Do not learn the clustering parameters\n",
        "params.LEARN[STRNAMES.CLUSTERING] = False\n",
        "params.LEARN[STRNAMES.CONCENTRATION] = False\n",
        "\n",
        "# Set the initialization option for clustering\n",
        "params.INITIALIZATION_KWARGS[STRNAMES.CLUSTERING]['value_option'] = 'fixed-clustering'\n",
        "params.INITIALIZATION_KWARGS[STRNAMES.CLUSTERING]['value'] = str(chain_basepath / \"mcmc.pkl\")\n",
        "\n",
        "mcmc = md2.initialize_graph(params=params, graph_name=unhealthy.name, subjset=unhealthy)\n",
        "mcmc = md2.run_graph(mcmc, crash_if_error=True)\n"
      ]
    },
    {
      "cell_type": "code",
      "execution_count": null,
      "metadata": {
        "id": "C_fMM7zcmqkR"
      },
      "outputs": [],
      "source": [
        "\n",
        "# Plot bayes factors for module-module interactions\n",
        "clustering = mcmc.graph[STRNAMES.CLUSTERING_OBJ]\n",
        "bf_taxa = md2.generate_interation_bayes_factors_posthoc(mcmc)\n",
        "bf_clustering = md2.condense_fixed_clustering_interaction_matrix(bf_taxa, clustering=clustering)\n",
        "\n",
        "labels = ['Cluster {} | {}'.format(i+1, i+1) for i in range(len(clustering))]\n",
        "md2.visualization.render_bayes_factors(bf_clustering, yticklabels=labels)\n",
        "plt.savefig(fig_dir / 'posterior_fix_assignments_{:04d}.png'.format(seed))\n"
      ]
    },
    {
      "cell_type": "code",
      "execution_count": null,
      "metadata": {
        "id": "rKQzW9XfmqkR"
      },
      "outputs": [],
      "source": [
        "\n",
        "\n",
        "\n"
      ]
    }
  ],
  "metadata": {
    "kernelspec": {
      "display_name": "mdsine2",
      "language": "python",
      "name": "python3"
    },
    "language_info": {
      "codemirror_mode": {
        "name": "ipython",
        "version": 3
      },
      "file_extension": ".py",
      "mimetype": "text/x-python",
      "name": "python",
      "nbconvert_exporter": "python",
      "pygments_lexer": "ipython3",
      "version": "3.10.8"
    },
    "orig_nbformat": 4,
    "vscode": {
      "interpreter": {
        "hash": "beba50113cf04c9ca1c9a3ac6af58136127bf597d62df57e30b29cd1f5120155"
      }
    },
    "colab": {
      "provenance": []
    }
  },
  "nbformat": 4,
  "nbformat_minor": 0
}