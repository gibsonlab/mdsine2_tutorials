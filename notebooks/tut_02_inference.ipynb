{
  "cells": [
    {
      "cell_type": "markdown",
      "metadata": {
        "id": "sjYZxl-onDx-"
      },
      "source": [
        " [![Open In Colab](https://colab.research.google.com/assets/colab-badge.svg)](https://colab.research.google.com/github/gibsonlab/mdsine2_tutorials/blob/main/notebooks/tut_02_inference.ipynb)\n",
        " # Running inference with the MDSINE2 model and exploring the posterior"
      ]
    },
    {
      "cell_type": "code",
      "execution_count": 10,
      "metadata": {
        "id": "0c3oF8fTnDx_",
        "outputId": "9077bb73-3c44-48a2-c13c-b11d8070c0d2",
        "colab": {
          "base_uri": "https://localhost:8080/",
          "height": 1000
        }
      },
      "outputs": [
        {
          "output_type": "stream",
          "name": "stdout",
          "text": [
            "  % Total    % Received % Xferd  Average Speed   Time    Time     Time  Current\n",
            "                                 Dload  Upload   Total   Spent    Left  Speed\n",
            "  0     0    0     0    0     0      0      0 --:--:-- --:--:-- --:--:--     0\n",
            "100  3265  100  3265    0     0   6530      0 --:--:-- --:--:-- --:--:--  245k\n",
            "  % Total    % Received % Xferd  Average Speed   Time    Time     Time  Current\n",
            "                                 Dload  Upload   Total   Spent    Left  Speed\n",
            "  0     0    0     0    0     0      0      0 --:--:-- --:--:-- --:--:--     0\n",
            "100 22392  100 22392    0     0  44873      0 --:--:-- --:--:-- --:--:-- 44873\n",
            "Archive:  healthy-toy.zip\n",
            "   creating: ./data/healthy-toy/\n",
            "  inflating: ./data/healthy-toy/perturbations.tsv  \n",
            "  inflating: ./data/healthy-toy/qpcr.tsv  \n",
            "  inflating: ./data/healthy-toy/metadata.tsv  \n",
            "  inflating: ./data/healthy-toy/counts.tsv  \n",
            "  inflating: ./data/healthy-toy/rdp_species.tsv  \n",
            "Archive:  replicates-toy.zip\n",
            "   creating: ./data/replicates-toy/\n",
            "  inflating: ./data/replicates-toy/perturbations.tsv  \n",
            "  inflating: ./data/replicates-toy/qpcr.tsv  \n",
            "  inflating: ./data/replicates-toy/metadata.tsv  \n",
            "  inflating: ./data/replicates-toy/counts.tsv  \n",
            "  inflating: ./data/replicates-toy/rdp_species.tsv  \n",
            "fatal: destination path 'MDSINE2' already exists and is not an empty directory.\n",
            "Already on 'cv-wip-mirror-dem'\n",
            "Your branch is up to date with 'origin/cv-wip-mirror-dem'.\n",
            "Looking in indexes: https://pypi.org/simple, https://us-python.pkg.dev/colab-wheels/public/simple/\n",
            "Processing ./MDSINE2\n",
            "  Preparing metadata (setup.py) ... \u001b[?25l\u001b[?25hdone\n",
            "Requirement already satisfied: numpy>=1.19.4 in /usr/local/lib/python3.8/dist-packages (from mdsine2==0.4.5) (1.21.6)\n",
            "Requirement already satisfied: pandas>=1.1.4 in /usr/local/lib/python3.8/dist-packages (from mdsine2==0.4.5) (1.3.5)\n",
            "Requirement already satisfied: scipy in /usr/local/lib/python3.8/dist-packages (from mdsine2==0.4.5) (1.7.3)\n",
            "Requirement already satisfied: matplotlib>=3.3.1 in /usr/local/lib/python3.8/dist-packages (from mdsine2==0.4.5) (3.6.3)\n",
            "Requirement already satisfied: sklearn in /usr/local/lib/python3.8/dist-packages (from mdsine2==0.4.5) (0.0.post1)\n",
            "Requirement already satisfied: seaborn>=0.11.0 in /usr/local/lib/python3.8/dist-packages (from mdsine2==0.4.5) (0.11.2)\n",
            "Requirement already satisfied: h5py==2.9.0 in /usr/local/lib/python3.8/dist-packages (from mdsine2==0.4.5) (2.9.0)\n",
            "Requirement already satisfied: psutil==5.7.3 in /usr/local/lib/python3.8/dist-packages (from mdsine2==0.4.5) (5.7.3)\n",
            "Requirement already satisfied: networkx==2.3 in /usr/local/lib/python3.8/dist-packages (from mdsine2==0.4.5) (2.3)\n",
            "Requirement already satisfied: numba==0.52 in /usr/local/lib/python3.8/dist-packages (from mdsine2==0.4.5) (0.52.0)\n",
            "Requirement already satisfied: biopython==1.78 in /usr/local/lib/python3.8/dist-packages (from mdsine2==0.4.5) (1.78)\n",
            "Requirement already satisfied: treeswift==1.1.14 in /usr/local/lib/python3.8/dist-packages (from mdsine2==0.4.5) (1.1.14)\n",
            "Requirement already satisfied: py2cytoscape==0.7.1 in /usr/local/lib/python3.8/dist-packages (from mdsine2==0.4.5) (0.7.1)\n",
            "Requirement already satisfied: tqdm in /usr/local/lib/python3.8/dist-packages (from mdsine2==0.4.5) (4.64.1)\n",
            "Requirement already satisfied: PyQt5 in /usr/local/lib/python3.8/dist-packages (from mdsine2==0.4.5) (5.15.9)\n",
            "Requirement already satisfied: ete3 in /usr/local/lib/python3.8/dist-packages (from mdsine2==0.4.5) (3.1.2)\n",
            "Requirement already satisfied: six in /usr/local/lib/python3.8/dist-packages (from h5py==2.9.0->mdsine2==0.4.5) (1.15.0)\n",
            "Requirement already satisfied: decorator>=4.3.0 in /usr/local/lib/python3.8/dist-packages (from networkx==2.3->mdsine2==0.4.5) (4.4.2)\n",
            "Requirement already satisfied: llvmlite<0.36,>=0.35.0 in /usr/local/lib/python3.8/dist-packages (from numba==0.52->mdsine2==0.4.5) (0.35.0)\n",
            "Requirement already satisfied: setuptools in /usr/local/lib/python3.8/dist-packages (from numba==0.52->mdsine2==0.4.5) (57.4.0)\n",
            "Requirement already satisfied: python-igraph in /usr/local/lib/python3.8/dist-packages (from py2cytoscape==0.7.1->mdsine2==0.4.5) (0.10.4)\n",
            "Requirement already satisfied: pyparsing in /usr/local/lib/python3.8/dist-packages (from py2cytoscape==0.7.1->mdsine2==0.4.5) (3.0.9)\n",
            "Requirement already satisfied: requests in /usr/local/lib/python3.8/dist-packages (from py2cytoscape==0.7.1->mdsine2==0.4.5) (2.25.1)\n",
            "Requirement already satisfied: pydot in /usr/local/lib/python3.8/dist-packages (from py2cytoscape==0.7.1->mdsine2==0.4.5) (1.3.0)\n",
            "Requirement already satisfied: pydotplus in /usr/local/lib/python3.8/dist-packages (from py2cytoscape==0.7.1->mdsine2==0.4.5) (2.0.2)\n",
            "Requirement already satisfied: fonttools>=4.22.0 in /usr/local/lib/python3.8/dist-packages (from matplotlib>=3.3.1->mdsine2==0.4.5) (4.38.0)\n",
            "Requirement already satisfied: pillow>=6.2.0 in /usr/local/lib/python3.8/dist-packages (from matplotlib>=3.3.1->mdsine2==0.4.5) (7.1.2)\n",
            "Requirement already satisfied: packaging>=20.0 in /usr/local/lib/python3.8/dist-packages (from matplotlib>=3.3.1->mdsine2==0.4.5) (23.0)\n",
            "Requirement already satisfied: contourpy>=1.0.1 in /usr/local/lib/python3.8/dist-packages (from matplotlib>=3.3.1->mdsine2==0.4.5) (1.0.7)\n",
            "Requirement already satisfied: python-dateutil>=2.7 in /usr/local/lib/python3.8/dist-packages (from matplotlib>=3.3.1->mdsine2==0.4.5) (2.8.2)\n",
            "Requirement already satisfied: cycler>=0.10 in /usr/local/lib/python3.8/dist-packages (from matplotlib>=3.3.1->mdsine2==0.4.5) (0.11.0)\n",
            "Requirement already satisfied: kiwisolver>=1.0.1 in /usr/local/lib/python3.8/dist-packages (from matplotlib>=3.3.1->mdsine2==0.4.5) (1.4.4)\n",
            "Requirement already satisfied: pytz>=2017.3 in /usr/local/lib/python3.8/dist-packages (from pandas>=1.1.4->mdsine2==0.4.5) (2022.7.1)\n",
            "Requirement already satisfied: PyQt5-sip<13,>=12.11 in /usr/local/lib/python3.8/dist-packages (from PyQt5->mdsine2==0.4.5) (12.11.1)\n",
            "Requirement already satisfied: PyQt5-Qt5>=5.15.2 in /usr/local/lib/python3.8/dist-packages (from PyQt5->mdsine2==0.4.5) (5.15.2)\n",
            "Requirement already satisfied: igraph==0.10.4 in /usr/local/lib/python3.8/dist-packages (from python-igraph->py2cytoscape==0.7.1->mdsine2==0.4.5) (0.10.4)\n",
            "Requirement already satisfied: texttable>=1.6.2 in /usr/local/lib/python3.8/dist-packages (from igraph==0.10.4->python-igraph->py2cytoscape==0.7.1->mdsine2==0.4.5) (1.6.7)\n",
            "Requirement already satisfied: idna<3,>=2.5 in /usr/local/lib/python3.8/dist-packages (from requests->py2cytoscape==0.7.1->mdsine2==0.4.5) (2.10)\n",
            "Requirement already satisfied: certifi>=2017.4.17 in /usr/local/lib/python3.8/dist-packages (from requests->py2cytoscape==0.7.1->mdsine2==0.4.5) (2022.12.7)\n",
            "Requirement already satisfied: chardet<5,>=3.0.2 in /usr/local/lib/python3.8/dist-packages (from requests->py2cytoscape==0.7.1->mdsine2==0.4.5) (4.0.0)\n",
            "Requirement already satisfied: urllib3<1.27,>=1.21.1 in /usr/local/lib/python3.8/dist-packages (from requests->py2cytoscape==0.7.1->mdsine2==0.4.5) (1.24.3)\n",
            "Building wheels for collected packages: mdsine2\n",
            "  Building wheel for mdsine2 (setup.py) ... \u001b[?25l\u001b[?25hdone\n",
            "  Created wheel for mdsine2: filename=mdsine2-0.4.5-cp38-cp38-linux_x86_64.whl size=347500 sha256=080251270b3b3cea46f012c16faae600a4a333beba49f92642445e3bd8407a38\n",
            "  Stored in directory: /tmp/pip-ephem-wheel-cache-60e0ow3z/wheels/65/97/60/8ebe4c65ed49112c078eed07ff85b0324d1512045c5c8fe993\n",
            "Successfully built mdsine2\n",
            "Installing collected packages: mdsine2\n",
            "  Attempting uninstall: mdsine2\n",
            "    Found existing installation: mdsine2 0.4.5\n",
            "    Uninstalling mdsine2-0.4.5:\n",
            "      Successfully uninstalled mdsine2-0.4.5\n",
            "Successfully installed mdsine2-0.4.5\n"
          ]
        },
        {
          "output_type": "display_data",
          "data": {
            "application/vnd.colab-display-data+json": {
              "pip_warning": {
                "packages": [
                  "_sample",
                  "mdsine2"
                ]
              }
            }
          },
          "metadata": {}
        }
      ],
      "source": [
        "import sys\n",
        "IN_COLAB = 'google.colab' in sys.modules\n",
        "\n",
        "if IN_COLAB:\n",
        "    # Get data\n",
        "    !curl -LJO https://github.com/gibsonlab/mdsine2_tutorials/raw/main/data/replicates-toy.zip\n",
        "    !curl -LJO https://github.com/gibsonlab/mdsine2_tutorials/raw/main/data/healthy-toy.zip\n",
        "    \n",
        "    !mkdir -p ./data/\n",
        "    !unzip healthy-toy.zip -d ./data/ && unzip replicates-toy.zip -d ./data/\n",
        "\n",
        "    !git clone https://github.com/gerberlab/MDSINE2\n",
        "    !cd MDSINE2 && git fetch && git checkout cv-wip-mirror-dem\n",
        "    !pip install MDSINE2/.\n",
        "\n",
        "else:\n",
        "    !cd .."
      ]
    },
    {
      "cell_type": "code",
      "execution_count": 11,
      "metadata": {
        "id": "t9siKxajnDyA"
      },
      "outputs": [],
      "source": [
        "import mdsine2 as md2\n",
        "from mdsine2.names import STRNAMES\n",
        "from pathlib import Path\n",
        "import matplotlib.pyplot as plt \n",
        "import numpy as np \n"
      ]
    },
    {
      "cell_type": "markdown",
      "metadata": {
        "id": "hLo5GwpAnDyA"
      },
      "source": [
        " # Loading data\n",
        " Here we load a small preprocessed \"toy\" dataset created in the previous tutorial."
      ]
    },
    {
      "cell_type": "code",
      "execution_count": 12,
      "metadata": {
        "id": "3uDUPPFZnDyB"
      },
      "outputs": [],
      "source": [
        "data_dir = Path('./data/')\n",
        "replicates_dir = data_dir / 'replicates-toy'\n",
        "healthy_dir = data_dir / 'healthy-toy'\n",
        "\n",
        "output_dir = Path('./output/')\n",
        "fig_dir = Path('./figs/')\n",
        "\n",
        "output_dir.mkdir(exist_ok=True, parents=True)\n",
        "fig_dir.mkdir(exist_ok=True, parents=True)\n",
        "\n"
      ]
    },
    {
      "cell_type": "code",
      "execution_count": 13,
      "metadata": {
        "id": "nqlv5GPSnDyB",
        "outputId": "4176ca9f-cb0c-4076-892f-7174d4f4ad5f",
        "colab": {
          "base_uri": "https://localhost:8080/"
        }
      },
      "outputs": [
        {
          "output_type": "stream",
          "name": "stdout",
          "text": [
            "[INFO] TaxaSet parsng new taxonomy table. Resetting\n",
            "[INFO] No `name` found - assuming index is the name\n",
            "[DEBUG] Reseting perturbations\n",
            "[INFO] TaxaSet parsng new taxonomy table. Resetting\n",
            "[INFO] No `name` found - assuming index is the name\n",
            "[DEBUG] Reseting perturbations\n"
          ]
        }
      ],
      "source": [
        "# # Read data\n",
        "studies = []\n",
        "for data_dir in [replicates_dir, healthy_dir]:\n",
        "    tsv_files = sorted(data_dir.glob('*.tsv'))\n",
        "    tsv_files = {f.stem : f for f in tsv_files}\n",
        "\n",
        "    # Read data into study object\n",
        "    study = md2.dataset.parse(\n",
        "        name = data_dir.stem,\n",
        "        metadata = tsv_files['metadata'],\n",
        "        taxonomy = tsv_files['rdp_species'],\n",
        "        reads = tsv_files['counts'],\n",
        "        qpcr = tsv_files['qpcr'],\n",
        "        perturbations = tsv_files['perturbations'],\n",
        "    )\n",
        "    studies.append(study)\n",
        "\n",
        "replicates, healthy = studies\n"
      ]
    },
    {
      "cell_type": "markdown",
      "metadata": {
        "id": "ImvkdAO1nDyB"
      },
      "source": [
        " # Learning the Negative Binomial dispersion parameters\n",
        " Before running the main inference loop we learn the negative binomial parameters from our physical replicates.\n",
        " Then, we build the compute graph for learning the model that is used to learn negative binomial parameters."
      ]
    },
    {
      "cell_type": "code",
      "execution_count": 14,
      "metadata": {
        "id": "4Pn1YsJJnDyB",
        "outputId": "112e7df8-6b63-4cf8-9dfe-e2019707be68",
        "colab": {
          "base_uri": "https://localhost:8080/"
        }
      },
      "outputs": [
        {
          "output_type": "stream",
          "name": "stdout",
          "text": [
            "[DEBUG] Available subjects: M2-D10,M2-D8,M2-D9\n",
            "[DEBUG] Subject M2-D10, available qpcr: 0.0,1.0,2.0,3.0,4.0,5.0\n",
            "[DEBUG] Subject M2-D8, available qpcr: 0.0,1.0,2.0,3.0,4.0,5.0\n",
            "[DEBUG] Subject M2-D9, available qpcr: 0.0,1.0,2.0,3.0,4.0,5.0\n",
            "[INFO] Setting Single Write, Multiple Read Mode\n",
            "[INFO] Setting the trace of learned parameters\n",
            "[INFO] #######################################\n",
            "[INFO] Setting the trace of Negative binomial dispersion a0\n",
            "[INFO] Setting the trace of Negative binomial dispersion a1\n",
            "[INFO] Setting the trace of Filtering\n",
            "[INFO] Setting the trace for diagnostic variables\n",
            "[INFO] ##########################################\n",
            " 48%|████▊     | 95/200 [00:01<00:01, 96.32it/s][DEBUG] Inference iteration 100/200, time: 2.0605995655059814\n",
            "[DEBUG] Negative binomial dispersion a0: Value: 1.9598217368212737e-10, Acceptance rate: 1.0\n",
            "[DEBUG] Negative binomial dispersion a1: Value: 0.0717629171067232, Acceptance rate: 0.58\n",
            "[DEBUG] Filtering: no-mp : Time: 0.0056, Acc: [0.333, 0.467, 0.333], data/sec: 8063.90\n",
            "100%|██████████| 200/200 [00:02<00:00, 68.13it/s] \n",
            "[INFO] Inference total time: 0.014760137796401977/Gibb step\n",
            "[INFO] remove local traces\n",
            "a0 {'median': 2.0149169537426792e-10, 'mean': 1.9940356992343302e-10, '25th percentile': 1.7354531823501396e-10, '75th percentile': 2.2558396649358905e-10}\n",
            "a1 {'median': 0.06947512250380615, 'mean': 0.07167989872327986, '25th percentile': 0.06365689716416778, '75th percentile': 0.0759128421696135}\n"
          ]
        }
      ],
      "source": [
        "# set negative binomial model inference parameters\n",
        "params = md2.config.NegBinConfig(\n",
        "    seed=0, burnin=100, n_samples=200,\n",
        "    checkpoint=100, \n",
        "    basepath=str(output_dir / \"negbin\")\n",
        ")\n",
        "\n",
        "# Build the compute graph to learn negative binomial parameters\n",
        "mcmc_negbin = md2.negbin.build_graph(\n",
        "    params=params, \n",
        "    graph_name=replicates.name, \n",
        "    subjset=replicates\n",
        "    )\n",
        "\n",
        "# Run inference to learn the negative binomial parameters\n",
        "mcmc_negbin = md2.negbin.run_graph(\n",
        "    mcmc_negbin, \n",
        "    crash_if_error=True\n",
        ")\n",
        "\n",
        "# Print a summary of a0 and a1 posterior\n",
        "print('a0', md2.summary(mcmc_negbin.graph[STRNAMES.NEGBIN_A0]))\n",
        "print('a1', md2.summary(mcmc_negbin.graph[STRNAMES.NEGBIN_A1]))\n"
      ]
    },
    {
      "cell_type": "markdown",
      "metadata": {
        "id": "NioDpbnEnDyC"
      },
      "source": [
        " Here we visualize the fit of the learned negative binomial model. This is not representative of the real results because we only have the 15 of the most abundant taxa here."
      ]
    },
    {
      "cell_type": "code",
      "execution_count": 15,
      "metadata": {
        "id": "rLVJy0SznDyC",
        "outputId": "f5f6a313-6bc3-4e87-e80c-418e532760ea",
        "colab": {
          "base_uri": "https://localhost:8080/",
          "height": 297
        }
      },
      "outputs": [
        {
          "output_type": "display_data",
          "data": {
            "text/plain": [
              "<Figure size 432x288 with 1 Axes>"
            ],
            "image/png": "[encoded data removed]"
          },
          "metadata": {
            "needs_background": "light"
          }
        }
      ],
      "source": [
        "fig = md2.negbin.visualize_learned_negative_binomial_model(mcmc_negbin)\n",
        "fig.tight_layout()\n",
        "plt.savefig(fig_dir / 'negbin_fit.png')\n"
      ]
    },
    {
      "cell_type": "markdown",
      "metadata": {
        "id": "4pQzCQTbnDyD"
      },
      "source": [
        " # Run inference on the full model\n",
        " ### Initialize and set model hyperparameters\n",
        " Here we use the learned parameters from the negative binomial model to run inference with the full model. First, we'll create a routine that takes our mcmc object as input and plots posterior quantities."
      ]
    },
    {
      "cell_type": "code",
      "execution_count": 16,
      "metadata": {
        "id": "RjfZjQhUnDyE"
      },
      "outputs": [],
      "source": [
        "def visualize(mcmc, study, seed):\n",
        "    \"\"\" Viz posteriors.\n",
        "    \"\"\"\n",
        "    growth = mcmc.graph[STRNAMES.GROWTH_VALUE]\n",
        "    growth_rates_trace = growth.get_trace_from_disk(section='entire')\n",
        "\n",
        "    growth_rates_mean = md2.summary(growth)['mean']\n",
        "    print('Mean growth rates for taxa over posterior', growth_rates_mean)\n",
        "\n",
        "    # Visualize trace for the first taxa\n",
        "    md2.visualization.render_trace(growth_rates_trace[:,0], n_burnin=50, **{'title': 'OTU_1 Growth rate'})\n",
        "    plt.savefig(fig_dir / 'posterior_growth_rates_{:04d}.png'.format(seed))\n",
        "\n",
        "    # Process variance\n",
        "    processvar = mcmc.graph[STRNAMES.PROCESSVAR]\n",
        "    pv_rates_trace = processvar.get_trace_from_disk(section='entire')\n",
        "\n",
        "    md2.visualization.render_trace(pv_rates_trace, n_burnin=50, **{'title': 'process variance'})\n",
        "    plt.savefig(fig_dir / 'posterior_process_variance_{:04d}.png'.format(seed))\n",
        "\n",
        "    # Taxa module assignments\n",
        "    clustering = mcmc.graph[STRNAMES.CLUSTERING_OBJ]\n",
        "    md2.generate_cluster_assignments_posthoc(clustering, set_as_value=True)\n",
        "    taxa = mcmc.graph.data.taxa\n",
        "\n",
        "    # Visualize co-cluster posterior probability\n",
        "    coclusters = md2.summary(mcmc.graph[STRNAMES.CLUSTERING_OBJ].coclusters)['mean']\n",
        "    md2.visualization.render_cocluster_probabilities(coclusters, taxa=study.taxa,\n",
        "        yticklabels='%(paperformat)s | %(index)s')#, order=order)\n",
        "    plt.savefig(fig_dir / 'posterior_cocluster_probs_{:04d}.png'.format(seed))\n",
        "\n",
        "    # Visualize trace for number of modules\n",
        "    md2.visualization.render_trace(clustering.n_clusters)\n",
        "    plt.savefig(fig_dir / 'posterior_num_modules_trace_{:04d}.png'.format(seed))\n",
        "\n"
      ]
    },
    {
      "cell_type": "markdown",
      "metadata": {
        "id": "KWc6xxLInDyE"
      },
      "source": [
        " Here we run inference, iterate through different seed values."
      ]
    },
    {
      "cell_type": "code",
      "execution_count": 18,
      "metadata": {
        "id": "75Vy2i9KnDyE",
        "outputId": "f4343fa4-2d7d-41be-ccff-a6598335bf8a",
        "colab": {
          "base_uri": "https://localhost:8080/",
          "height": 1000
        }
      },
      "outputs": [
        {
          "output_type": "stream",
          "name": "stdout",
          "text": [
            "[INFO] max_value found: 551243918704.4608, scaling_factor: 1.8140789695244354e-10\n",
            "[INFO] Normalizing abundances for a max value of 100. Normalization constant: 1.8141E-10\n",
            "[INFO] There are 305 qPCR measurements for 3 buckets. Each bucket is 101 measurements long\n",
            "[INFO] Initializing Filtering\n",
            "[INFO] Setting up the essential timepoints\n",
            "[INFO] Essential timepoints: [ 0.   0.5  1.   1.5  2.   2.5  3.   3.5  4.   4.5  5.   6.   7.   8.\n",
            "  9.  10.  11.  14.  16.  18.  21.  21.5 22.  22.5 23.  23.5 24.  25.\n",
            " 28.  28.5 29.  29.5 30.  30.5 31.  31.5 32.  33.  35.  35.5 36.  36.5\n",
            " 37.  37.5 38.  39.  42.  42.5 43.  43.5 44.  44.5 45.  45.5 46.  47.\n",
            " 50.  50.5 51.  51.5 52.  52.5 53.  54.  57.  57.5 58.  58.5 59.  59.5\n",
            " 60.  60.5 61.  62.  63.  64.  64.5]\n",
            "[INFO] Initializing Zero inflation\n"
          ]
        },
        {
          "output_type": "stream",
          "name": "stderr",
          "text": [
            "[WARNING] `zero_inflation_transition_policy` is None so we are not doing anything\n"
          ]
        },
        {
          "output_type": "stream",
          "name": "stdout",
          "text": [
            "[INFO] Initializing LHS vector\n",
            "[INFO] Initializing growth design matrix\n",
            "[INFO] Initializing self-interactions design matrix\n",
            "[INFO] Initializing Clustering concentration parameter\n",
            "[INFO] Cluster Concentration initialization results:\n",
            "\tprior shape: 1e-05\n",
            "\tprior scale: 100000.0\n",
            "\tvalue: 1.0\n",
            "[INFO] Initializing Clustering parameter\n",
            "[INFO] Cluster Assingments initialization results:\n",
            "Clustering object (contains ability to change the cluster assignments), n_clusters: 15\n",
            "Cluster 100115\n",
            "\tmembers: ['ASV_1']\n",
            "\tsize: 1\n",
            "Cluster 100116\n",
            "\tmembers: ['ASV_2']\n",
            "\tsize: 1\n",
            "Cluster 100117\n",
            "\tmembers: ['ASV_3']\n",
            "\tsize: 1\n",
            "Cluster 100118\n",
            "\tmembers: ['ASV_4']\n",
            "\tsize: 1\n",
            "Cluster 100119\n",
            "\tmembers: ['ASV_5']\n",
            "\tsize: 1\n",
            "Cluster 100120\n",
            "\tmembers: ['ASV_6']\n",
            "\tsize: 1\n",
            "Cluster 100121\n",
            "\tmembers: ['ASV_7']\n",
            "\tsize: 1\n",
            "Cluster 100122\n",
            "\tmembers: ['ASV_8']\n",
            "\tsize: 1\n",
            "Cluster 100123\n",
            "\tmembers: ['ASV_9']\n",
            "\tsize: 1\n",
            "Cluster 100124\n",
            "\tmembers: ['ASV_10']\n",
            "\tsize: 1\n",
            "Cluster 100125\n",
            "\tmembers: ['ASV_11']\n",
            "\tsize: 1\n",
            "Cluster 100126\n",
            "\tmembers: ['ASV_12']\n",
            "\tsize: 1\n",
            "Cluster 100127\n",
            "\tmembers: ['ASV_13']\n",
            "\tsize: 1\n",
            "Cluster 100128\n",
            "\tmembers: ['ASV_14']\n",
            "\tsize: 1\n",
            "Cluster 100129\n",
            "\tmembers: ['ASV_15']\n",
            "\tsize: 1\n",
            "[INFO] Initializing Process Variance parameter\n",
            "[INFO] Initializing Mean parameter for the truncated normal prior of the growth parameter\n",
            "[INFO] Initializing Variance parameter for the truncated normal prior of the growth parameter\n",
            "[INFO] Initializing Growth parameter\n",
            "[INFO] Growth value initialization: [0.18038416 1.20264921 0.31366964 1.14534092 0.92218341 1.13687769\n",
            " 1.1960567  0.72346211 0.28539801 0.86332751 0.51468723 0.18244579\n",
            " 0.5994922  0.06392036 0.222928  ]\n",
            "[INFO] Growth prior mean: 1\n",
            "[INFO] Growth truncation settings: (0.0, inf)\n",
            "[INFO] Initializing Mean parameter for the truncated normal prior of the self-interaction parameter\n",
            "[INFO] Initializing Variance parameter for the truncated normal prior of the self-interaction parameter\n",
            "[INFO] Initializing Self interaction parameter\n",
            "[INFO] Self-interactions value initialization: [ 0.06372063  0.30077717  0.58925969  0.13764007  0.08587689  0.35861243\n",
            "  0.50995595  0.20199178 13.14925109  0.24755357  3.97970114  0.07661544\n",
            "  0.36039847  0.26287186  0.18463889]\n",
            "[INFO] Self-interactions truncation settings: (0, inf)\n",
            "[INFO] Initializing Mean parameter for the normal prior of the interaction parameter\n",
            "[INFO] Initializing Variance parameter for the normal prior of the interaction parameter\n",
            "[INFO] Prior Variance Interactions initialization results:\n",
            "\tprior dof: 2.01\n",
            "\tprior scale: 3.4378912654321585\n",
            "\tvalue: 691.0161443518786\n",
            "[INFO] Initializing Cluster interaction value parameter\n",
            "[INFO] Initializing Cluster interaction indicator parameter\n",
            "[INFO] Initializing interactions base design matrix\n",
            "[INFO] Initialized interactions mixing design matrix\n",
            "[INFO] Initializing interactions matrix\n",
            "[INFO] Initializing Cluster interaction probability\n",
            "[INFO] Indicator Probability initialization results:\n",
            "\tprior a: 0.5\n",
            "\tprior b: 4.9146595004514415\n",
            "\tvalue: 0.09234190994988938\n",
            "[INFO] Initializing Mean parameter for the normal prior of the perturbation parameter\n",
            "[INFO] Initializing Variance parameter for the normal prior of the perturbation parameter\n",
            "[INFO] Prior Variance Interactions initialization results:\n",
            "\tprior dof: 2.5\n",
            "\tprior scale: 2000.0\n",
            "\tvalue: 10000.0\n",
            "[INFO] Prior Variance Interactions initialization results:\n",
            "\tprior dof: 2.5\n",
            "\tprior scale: 2000.0\n",
            "\tvalue: 10000.0\n",
            "[INFO] Prior Variance Interactions initialization results:\n",
            "\tprior dof: 2.5\n",
            "\tprior scale: 2000.0\n",
            "\tvalue: 10000.0\n",
            "[INFO] Initializing Perturbation indicator parameter\n",
            "[INFO] Perturbation indicator initialization results:\n",
            "\tPerturbation 0:\n",
            "\t\tindicator: [False False False False False False False False False False False False\n",
            " False False False]\n",
            "\tPerturbation 1:\n",
            "\t\tindicator: [False False False False False False False False False False False False\n",
            " False False False]\n",
            "\tPerturbation 2:\n",
            "\t\tindicator: [False False False False False False False False False False False False\n",
            " False False False]\n",
            "\n",
            "[INFO] Initializing Perturbation value parameter\n",
            "[INFO] Perturbation magnitude initialization results:\n",
            "\tPerturbation High Fat Diet:\n",
            "\t\tvalue: [0. 0. 0. 0. 0. 0. 0. 0. 0. 0. 0. 0. 0. 0. 0.]\n",
            "\tPerturbation Vancomycin:\n",
            "\t\tvalue: [0. 0. 0. 0. 0. 0. 0. 0. 0. 0. 0. 0. 0. 0. 0.]\n",
            "\tPerturbation Gentamicin:\n",
            "\t\tvalue: [0. 0. 0. 0. 0. 0. 0. 0. 0. 0. 0. 0. 0. 0. 0.]\n",
            "\n",
            "[INFO] Initializing Probability parameter for the beta prior of the perturbation indicator parameter\n",
            "[INFO] Perturbation indicator probability initialization results:\n",
            "\tPerturbation 0:\n",
            "\t\tprior a: 0.5\n",
            "\t\tprior b: 2.772588722239781\n",
            "\t\tvalue: 0.1527842458791451\n",
            "\tPerturbation 1:\n",
            "\t\tprior a: 0.5\n",
            "\t\tprior b: 2.772588722239781\n",
            "\t\tvalue: 0.1527842458791451\n",
            "\tPerturbation 2:\n",
            "\t\tprior a: 0.5\n",
            "\t\tprior b: 2.772588722239781\n",
            "\t\tvalue: 0.1527842458791451\n",
            "\n",
            "[INFO] Initializing Logistic growth parameters (growth, self-interactions, interactions/perturbations)\n",
            "[INFO] Initializing qPCR hyperprior scales\n",
            "[INFO] Initializing qPCR hyperprior degrees of freedom\n",
            "[INFO] Initializing qPCR variances\n",
            "[INFO] \n",
            "\n",
            "\n",
            "\n",
            "[INFO] Initialization Values:\n",
            "[INFO] Growth\n",
            "[INFO] \tprior.loc: 1\n",
            "[INFO] \tprior.scale2: 3593.9089396896247\n",
            "[INFO] \tvalue: [0.18038416 1.20264921 0.31366964 1.14534092 0.92218341 1.13687769\n",
            " 1.1960567  0.72346211 0.28539801 0.86332751 0.51468723 0.18244579\n",
            " 0.5994922  0.06392036 0.222928  ]\n",
            "[INFO] Self-Interactions\n",
            "[INFO] \tprior.loc: 0.262871859344411\n",
            "[INFO] \tprior.scale2: 691.0161443518786\n",
            "[INFO] \tvalue: [ 0.06372063  0.30077717  0.58925969  0.13764007  0.08587689  0.35861243\n",
            "  0.50995595  0.20199178 13.14925109  0.24755357  3.97970114  0.07661544\n",
            "  0.36039847  0.26287186  0.18463889]\n",
            "[INFO] Prior Variance Growth\n",
            "[INFO] \tprior.dof: 2.5\n",
            "[INFO] \tprior.scale: 718.781787937925\n",
            "[INFO] \tvalue: 3593.9089396896247\n",
            "[INFO] Prior Variance Self-Interactions\n",
            "[INFO] \tprior.dof: 2.5\n",
            "[INFO] \tprior.scale: 138.2032288703757\n",
            "[INFO] \tvalue: 691.0161443518786\n",
            "[INFO] Prior Variance Interactions\n",
            "[INFO] \tprior.dof: 2.01\n",
            "[INFO] \tprior.scale: 3.4378912654321585\n",
            "[INFO] \tvalue: 691.0161443518786\n",
            "[INFO] Process Variance\n",
            "[INFO] \tprior.dof: 2.5\n",
            "[INFO] \tprior.scale: 0.008000000000000002\n",
            "[INFO] \tprior mean: 0.04000000000000001\n",
            "[INFO] Concentration\n",
            "[INFO] \tprior.shape: 1e-05\n",
            "[INFO] \tprior.scale: 100000.0\n",
            "[INFO] \tvalue: 1.0\n",
            "[INFO] Indicator probability\n",
            "[INFO] \tprior.a: 0.5\n",
            "[INFO] \tprior.b: 4.9146595004514415\n",
            "[INFO] \tvalue: 0.09234190994988938\n",
            "[INFO] Perturbation values:\n",
            "[INFO] \tperturbation High Fat Diet\n",
            "[INFO] \t\tvalue: {100115: 0, 100116: 0, 100117: 0, 100118: 0, 100119: 0, 100120: 0, 100121: 0, 100122: 0, 100123: 0, 100124: 0, 100125: 0, 100126: 0, 100127: 0, 100128: 0, 100129: 0}\n",
            "[INFO] \t\tprior.loc: 0\n",
            "[INFO] \tperturbation Vancomycin\n",
            "[INFO] \t\tvalue: {100115: 0, 100116: 0, 100117: 0, 100118: 0, 100119: 0, 100120: 0, 100121: 0, 100122: 0, 100123: 0, 100124: 0, 100125: 0, 100126: 0, 100127: 0, 100128: 0, 100129: 0}\n",
            "[INFO] \t\tprior.loc: 0\n",
            "[INFO] \tperturbation Gentamicin\n",
            "[INFO] \t\tvalue: {100115: 0, 100116: 0, 100117: 0, 100118: 0, 100119: 0, 100120: 0, 100121: 0, 100122: 0, 100123: 0, 100124: 0, 100125: 0, 100126: 0, 100127: 0, 100128: 0, 100129: 0}\n",
            "[INFO] \t\tprior.loc: 0\n",
            "[INFO] Perturbation prior variances:\n",
            "[INFO] \t\tdof: 2.5\n",
            "[INFO] \t\tscale: 2000.0\n",
            "[INFO] \t\tvalue: 10000.0\n",
            "[INFO] \t\tdof: 2.5\n",
            "[INFO] \t\tscale: 2000.0\n",
            "[INFO] \t\tvalue: 10000.0\n",
            "[INFO] \t\tdof: 2.5\n",
            "[INFO] \t\tscale: 2000.0\n",
            "[INFO] \t\tvalue: 10000.0\n",
            "[INFO] Perturbation indicators:\n",
            "[INFO] \tperturbation High Fat Diet: [False False False False False False False False False False False False\n",
            " False False False]\n",
            "[INFO] \tperturbation Vancomycin: [False False False False False False False False False False False False\n",
            " False False False]\n",
            "[INFO] \tperturbation Gentamicin: [False False False False False False False False False False False False\n",
            " False False False]\n",
            "[INFO] Perturbation indicator probability:\n",
            "[INFO] \tperturbation High Fat Diet\n",
            "[INFO] \t\tvalue: 0.1527842458791451\n",
            "[INFO] \t\tprior.a: 0.5\n",
            "[INFO] \t\tprior.b: 2.772588722239781\n",
            "[INFO] \tperturbation Vancomycin\n",
            "[INFO] \t\tvalue: 0.1527842458791451\n",
            "[INFO] \t\tprior.a: 0.5\n",
            "[INFO] \t\tprior.b: 2.772588722239781\n",
            "[INFO] \tperturbation Gentamicin\n",
            "[INFO] \t\tvalue: 0.1527842458791451\n",
            "[INFO] \t\tprior.a: 0.5\n",
            "[INFO] \t\tprior.b: 2.772588722239781\n",
            "[INFO] Setting Single Write, Multiple Read Mode\n",
            "[INFO] Setting the trace of learned parameters\n",
            "[INFO] #######################################\n",
            "[INFO] Setting the trace of Cluster interaction indicator parameter\n",
            "[INFO] Setting the trace of Cluster interaction probability\n",
            "[INFO] Setting the trace of Perturbation indicator parameter\n",
            "[INFO] Setting the trace of Probability parameter for the beta prior of the perturbation indicator parameter\n",
            "[INFO] Setting the trace of Logistic growth parameters (growth, self-interactions, interactions/perturbations)\n",
            "[INFO] Setting the trace of Mean parameter for the normal prior of the interaction parameter\n",
            "[INFO] Setting the trace of Mean parameter for the normal prior of the perturbation parameter\n",
            "[INFO] Setting the trace of Mean parameter for the truncated normal prior of the growth parameter\n",
            "[INFO] Setting the trace of Mean parameter for the truncated normal prior of the self-interaction parameter\n",
            "[INFO] Setting the trace of Variance parameter for the normal prior of the interaction parameter\n",
            "[INFO] Setting the trace of Variance parameter for the normal prior of the perturbation parameter\n",
            "[INFO] Setting the trace of Process Variance parameter\n",
            "[INFO] Setting the trace of Filtering\n",
            "[INFO] Setting the trace of Clustering parameter\n",
            "[INFO] Setting the trace of Clustering concentration parameter\n",
            "[INFO] Setting the trace for diagnostic variables\n",
            "[INFO] ##########################################\n",
            "100%|██████████| 100/100 [00:56<00:00,  1.76it/s]\n",
            "[INFO] Inference total time: 0.5699061179161071/Gibb step\n",
            "[INFO] remove local traces\n",
            "[INFO] Denormalizing the parameters\n",
            "Mean growth rates for taxa over posterior [0.37286508 0.41883738 0.16405757 0.58685806 0.98415995 0.63652219\n",
            " 0.45219195 0.16060425 0.1696251  0.54312099 0.17862869 0.25054936\n",
            " 0.65328756 0.13472638 0.5169482 ]\n"
          ]
        },
        {
          "output_type": "stream",
          "name": "stderr",
          "text": [
            "[ERROR] 25th percentile failed\n",
            "[ERROR] 75th percentile failed\n"
          ]
        },
        {
          "output_type": "stream",
          "name": "stdout",
          "text": [
            "[INFO] Number of clusters: 4\n",
            "[INFO] Clusters assigned: [1 0 0 2 1 2 3 1 1 1 1 1 1 0 2]\n"
          ]
        },
        {
          "output_type": "stream",
          "name": "stderr",
          "text": [
            "[ERROR] 25th percentile failed\n",
            "[ERROR] 75th percentile failed\n"
          ]
        },
        {
          "output_type": "stream",
          "name": "stdout",
          "text": [
            "[INFO] max_value found: 551243918704.4608, scaling_factor: 1.8140789695244354e-10\n",
            "[INFO] Normalizing abundances for a max value of 100. Normalization constant: 1.8141E-10\n",
            "[INFO] There are 305 qPCR measurements for 3 buckets. Each bucket is 101 measurements long\n",
            "[INFO] Initializing Filtering\n",
            "[INFO] Setting up the essential timepoints\n",
            "[INFO] Essential timepoints: [ 0.   0.5  1.   1.5  2.   2.5  3.   3.5  4.   4.5  5.   6.   7.   8.\n",
            "  9.  10.  11.  14.  16.  18.  21.  21.5 22.  22.5 23.  23.5 24.  25.\n",
            " 28.  28.5 29.  29.5 30.  30.5 31.  31.5 32.  33.  35.  35.5 36.  36.5\n",
            " 37.  37.5 38.  39.  42.  42.5 43.  43.5 44.  44.5 45.  45.5 46.  47.\n",
            " 50.  50.5 51.  51.5 52.  52.5 53.  54.  57.  57.5 58.  58.5 59.  59.5\n",
            " 60.  60.5 61.  62.  63.  64.  64.5]\n",
            "[INFO] Initializing Zero inflation\n"
          ]
        },
        {
          "output_type": "stream",
          "name": "stderr",
          "text": [
            "[WARNING] `zero_inflation_transition_policy` is None so we are not doing anything\n"
          ]
        },
        {
          "output_type": "stream",
          "name": "stdout",
          "text": [
            "[INFO] Initializing LHS vector\n",
            "[INFO] Initializing growth design matrix\n",
            "[INFO] Initializing self-interactions design matrix\n",
            "[INFO] Initializing Clustering concentration parameter\n",
            "[INFO] Cluster Concentration initialization results:\n",
            "\tprior shape: 1e-05\n",
            "\tprior scale: 100000.0\n",
            "\tvalue: 1.0\n",
            "[INFO] Initializing Clustering parameter\n",
            "[INFO] Cluster Assingments initialization results:\n",
            "Clustering object (contains ability to change the cluster assignments), n_clusters: 15\n",
            "Cluster 100115\n",
            "\tmembers: ['ASV_1']\n",
            "\tsize: 1\n",
            "Cluster 100116\n",
            "\tmembers: ['ASV_2']\n",
            "\tsize: 1\n",
            "Cluster 100117\n",
            "\tmembers: ['ASV_3']\n",
            "\tsize: 1\n",
            "Cluster 100118\n",
            "\tmembers: ['ASV_4']\n",
            "\tsize: 1\n",
            "Cluster 100119\n",
            "\tmembers: ['ASV_5']\n",
            "\tsize: 1\n",
            "Cluster 100120\n",
            "\tmembers: ['ASV_6']\n",
            "\tsize: 1\n",
            "Cluster 100121\n",
            "\tmembers: ['ASV_7']\n",
            "\tsize: 1\n",
            "Cluster 100122\n",
            "\tmembers: ['ASV_8']\n",
            "\tsize: 1\n",
            "Cluster 100123\n",
            "\tmembers: ['ASV_9']\n",
            "\tsize: 1\n",
            "Cluster 100124\n",
            "\tmembers: ['ASV_10']\n",
            "\tsize: 1\n",
            "Cluster 100125\n",
            "\tmembers: ['ASV_11']\n",
            "\tsize: 1\n",
            "Cluster 100126\n",
            "\tmembers: ['ASV_12']\n",
            "\tsize: 1\n",
            "Cluster 100127\n",
            "\tmembers: ['ASV_13']\n",
            "\tsize: 1\n",
            "Cluster 100128\n",
            "\tmembers: ['ASV_14']\n",
            "\tsize: 1\n",
            "Cluster 100129\n",
            "\tmembers: ['ASV_15']\n",
            "\tsize: 1\n",
            "[INFO] Initializing Process Variance parameter\n",
            "[INFO] Initializing Mean parameter for the truncated normal prior of the growth parameter\n",
            "[INFO] Initializing Variance parameter for the truncated normal prior of the growth parameter\n",
            "[INFO] Initializing Growth parameter\n",
            "[INFO] Growth value initialization: [0.1732875  1.21091486 0.30940816 1.06820506 0.94153006 1.11598307\n",
            " 1.15437732 0.77141296 0.26363648 0.85049419 0.57445057 0.19411471\n",
            " 0.6455628  0.04479607 0.24264153]\n",
            "[INFO] Growth prior mean: 1\n",
            "[INFO] Growth truncation settings: (0.0, inf)\n",
            "[INFO] Initializing Mean parameter for the truncated normal prior of the self-interaction parameter\n",
            "[INFO] Initializing Variance parameter for the truncated normal prior of the self-interaction parameter\n",
            "[INFO] Initializing Self interaction parameter\n",
            "[INFO] Self-interactions value initialization: [ 0.06233921  0.30381214  0.59684577  0.12780038  0.08773751  0.35266359\n",
            "  0.49395039  0.21487155 12.93203725  0.24457361  4.21826202  0.07902123\n",
            "  0.38547942  0.25462289  0.19326604]\n",
            "[INFO] Self-interactions truncation settings: (0, inf)\n",
            "[INFO] Initializing Mean parameter for the normal prior of the interaction parameter\n",
            "[INFO] Initializing Variance parameter for the normal prior of the interaction parameter\n",
            "[INFO] Prior Variance Interactions initialization results:\n",
            "\tprior dof: 2.01\n",
            "\tprior scale: 3.225513160910889\n",
            "\tvalue: 648.3281453431025\n",
            "[INFO] Initializing Cluster interaction value parameter\n",
            "[INFO] Initializing Cluster interaction indicator parameter\n",
            "[INFO] Initializing interactions base design matrix\n",
            "[INFO] Initialized interactions mixing design matrix\n",
            "[INFO] Initializing interactions matrix\n",
            "[INFO] Initializing Cluster interaction probability\n",
            "[INFO] Indicator Probability initialization results:\n",
            "\tprior a: 0.5\n",
            "\tprior b: 4.9146595004514415\n",
            "\tvalue: 0.09234190994988938\n",
            "[INFO] Initializing Mean parameter for the normal prior of the perturbation parameter\n",
            "[INFO] Initializing Variance parameter for the normal prior of the perturbation parameter\n",
            "[INFO] Prior Variance Interactions initialization results:\n",
            "\tprior dof: 2.5\n",
            "\tprior scale: 2000.0\n",
            "\tvalue: 10000.0\n",
            "[INFO] Prior Variance Interactions initialization results:\n",
            "\tprior dof: 2.5\n",
            "\tprior scale: 2000.0\n",
            "\tvalue: 10000.0\n",
            "[INFO] Prior Variance Interactions initialization results:\n",
            "\tprior dof: 2.5\n",
            "\tprior scale: 2000.0\n",
            "\tvalue: 10000.0\n",
            "[INFO] Initializing Perturbation indicator parameter\n",
            "[INFO] Perturbation indicator initialization results:\n",
            "\tPerturbation 0:\n",
            "\t\tindicator: [False False False False False False False False False False False False\n",
            " False False False]\n",
            "\tPerturbation 1:\n",
            "\t\tindicator: [False False False False False False False False False False False False\n",
            " False False False]\n",
            "\tPerturbation 2:\n",
            "\t\tindicator: [False False False False False False False False False False False False\n",
            " False False False]\n",
            "\n",
            "[INFO] Initializing Perturbation value parameter\n",
            "[INFO] Perturbation magnitude initialization results:\n",
            "\tPerturbation High Fat Diet:\n",
            "\t\tvalue: [0. 0. 0. 0. 0. 0. 0. 0. 0. 0. 0. 0. 0. 0. 0.]\n",
            "\tPerturbation Vancomycin:\n",
            "\t\tvalue: [0. 0. 0. 0. 0. 0. 0. 0. 0. 0. 0. 0. 0. 0. 0.]\n",
            "\tPerturbation Gentamicin:\n",
            "\t\tvalue: [0. 0. 0. 0. 0. 0. 0. 0. 0. 0. 0. 0. 0. 0. 0.]\n",
            "\n",
            "[INFO] Initializing Probability parameter for the beta prior of the perturbation indicator parameter\n",
            "[INFO] Perturbation indicator probability initialization results:\n",
            "\tPerturbation 0:\n",
            "\t\tprior a: 0.5\n",
            "\t\tprior b: 2.772588722239781\n",
            "\t\tvalue: 0.1527842458791451\n",
            "\tPerturbation 1:\n",
            "\t\tprior a: 0.5\n",
            "\t\tprior b: 2.772588722239781\n",
            "\t\tvalue: 0.1527842458791451\n",
            "\tPerturbation 2:\n",
            "\t\tprior a: 0.5\n",
            "\t\tprior b: 2.772588722239781\n",
            "\t\tvalue: 0.1527842458791451\n",
            "\n",
            "[INFO] Initializing Logistic growth parameters (growth, self-interactions, interactions/perturbations)\n",
            "[INFO] Initializing qPCR hyperprior scales\n",
            "[INFO] Initializing qPCR hyperprior degrees of freedom\n",
            "[INFO] Initializing qPCR variances\n",
            "[INFO] \n",
            "\n",
            "\n",
            "\n",
            "[INFO] Initialization Values:\n",
            "[INFO] Growth\n",
            "[INFO] \tprior.loc: 1\n",
            "[INFO] \tprior.scale2: 4167.513230253072\n",
            "[INFO] \tvalue: [0.1732875  1.21091486 0.30940816 1.06820506 0.94153006 1.11598307\n",
            " 1.15437732 0.77141296 0.26363648 0.85049419 0.57445057 0.19411471\n",
            " 0.6455628  0.04479607 0.24264153]\n",
            "[INFO] Self-Interactions\n",
            "[INFO] \tprior.loc: 0.2546228869020047\n",
            "[INFO] \tprior.scale2: 648.3281453431025\n",
            "[INFO] \tvalue: [ 0.06233921  0.30381214  0.59684577  0.12780038  0.08773751  0.35266359\n",
            "  0.49395039  0.21487155 12.93203725  0.24457361  4.21826202  0.07902123\n",
            "  0.38547942  0.25462289  0.19326604]\n",
            "[INFO] Prior Variance Growth\n",
            "[INFO] \tprior.dof: 2.5\n",
            "[INFO] \tprior.scale: 833.5026460506144\n",
            "[INFO] \tvalue: 4167.513230253072\n",
            "[INFO] Prior Variance Self-Interactions\n",
            "[INFO] \tprior.dof: 2.5\n",
            "[INFO] \tprior.scale: 129.6656290686205\n",
            "[INFO] \tvalue: 648.3281453431025\n",
            "[INFO] Prior Variance Interactions\n",
            "[INFO] \tprior.dof: 2.01\n",
            "[INFO] \tprior.scale: 3.225513160910889\n",
            "[INFO] \tvalue: 648.3281453431025\n",
            "[INFO] Process Variance\n",
            "[INFO] \tprior.dof: 2.5\n",
            "[INFO] \tprior.scale: 0.008000000000000002\n",
            "[INFO] \tprior mean: 0.04000000000000001\n",
            "[INFO] Concentration\n",
            "[INFO] \tprior.shape: 1e-05\n",
            "[INFO] \tprior.scale: 100000.0\n",
            "[INFO] \tvalue: 1.0\n",
            "[INFO] Indicator probability\n",
            "[INFO] \tprior.a: 0.5\n",
            "[INFO] \tprior.b: 4.9146595004514415\n",
            "[INFO] \tvalue: 0.09234190994988938\n",
            "[INFO] Perturbation values:\n",
            "[INFO] \tperturbation High Fat Diet\n",
            "[INFO] \t\tvalue: {100115: 0, 100116: 0, 100117: 0, 100118: 0, 100119: 0, 100120: 0, 100121: 0, 100122: 0, 100123: 0, 100124: 0, 100125: 0, 100126: 0, 100127: 0, 100128: 0, 100129: 0}\n",
            "[INFO] \t\tprior.loc: 0\n",
            "[INFO] \tperturbation Vancomycin\n",
            "[INFO] \t\tvalue: {100115: 0, 100116: 0, 100117: 0, 100118: 0, 100119: 0, 100120: 0, 100121: 0, 100122: 0, 100123: 0, 100124: 0, 100125: 0, 100126: 0, 100127: 0, 100128: 0, 100129: 0}\n",
            "[INFO] \t\tprior.loc: 0\n",
            "[INFO] \tperturbation Gentamicin\n",
            "[INFO] \t\tvalue: {100115: 0, 100116: 0, 100117: 0, 100118: 0, 100119: 0, 100120: 0, 100121: 0, 100122: 0, 100123: 0, 100124: 0, 100125: 0, 100126: 0, 100127: 0, 100128: 0, 100129: 0}\n",
            "[INFO] \t\tprior.loc: 0\n",
            "[INFO] Perturbation prior variances:\n",
            "[INFO] \t\tdof: 2.5\n",
            "[INFO] \t\tscale: 2000.0\n",
            "[INFO] \t\tvalue: 10000.0\n",
            "[INFO] \t\tdof: 2.5\n",
            "[INFO] \t\tscale: 2000.0\n",
            "[INFO] \t\tvalue: 10000.0\n",
            "[INFO] \t\tdof: 2.5\n",
            "[INFO] \t\tscale: 2000.0\n",
            "[INFO] \t\tvalue: 10000.0\n",
            "[INFO] Perturbation indicators:\n",
            "[INFO] \tperturbation High Fat Diet: [False False False False False False False False False False False False\n",
            " False False False]\n",
            "[INFO] \tperturbation Vancomycin: [False False False False False False False False False False False False\n",
            " False False False]\n",
            "[INFO] \tperturbation Gentamicin: [False False False False False False False False False False False False\n",
            " False False False]\n",
            "[INFO] Perturbation indicator probability:\n",
            "[INFO] \tperturbation High Fat Diet\n",
            "[INFO] \t\tvalue: 0.1527842458791451\n",
            "[INFO] \t\tprior.a: 0.5\n",
            "[INFO] \t\tprior.b: 2.772588722239781\n",
            "[INFO] \tperturbation Vancomycin\n",
            "[INFO] \t\tvalue: 0.1527842458791451\n",
            "[INFO] \t\tprior.a: 0.5\n",
            "[INFO] \t\tprior.b: 2.772588722239781\n",
            "[INFO] \tperturbation Gentamicin\n",
            "[INFO] \t\tvalue: 0.1527842458791451\n",
            "[INFO] \t\tprior.a: 0.5\n",
            "[INFO] \t\tprior.b: 2.772588722239781\n",
            "[INFO] Setting Single Write, Multiple Read Mode\n",
            "[INFO] Setting the trace of learned parameters\n",
            "[INFO] #######################################\n",
            "[INFO] Setting the trace of Cluster interaction indicator parameter\n",
            "[INFO] Setting the trace of Cluster interaction probability\n",
            "[INFO] Setting the trace of Perturbation indicator parameter\n",
            "[INFO] Setting the trace of Probability parameter for the beta prior of the perturbation indicator parameter\n",
            "[INFO] Setting the trace of Logistic growth parameters (growth, self-interactions, interactions/perturbations)\n",
            "[INFO] Setting the trace of Mean parameter for the normal prior of the interaction parameter\n",
            "[INFO] Setting the trace of Mean parameter for the normal prior of the perturbation parameter\n",
            "[INFO] Setting the trace of Mean parameter for the truncated normal prior of the growth parameter\n",
            "[INFO] Setting the trace of Mean parameter for the truncated normal prior of the self-interaction parameter\n",
            "[INFO] Setting the trace of Variance parameter for the normal prior of the interaction parameter\n",
            "[INFO] Setting the trace of Variance parameter for the normal prior of the perturbation parameter\n",
            "[INFO] Setting the trace of Process Variance parameter\n",
            "[INFO] Setting the trace of Filtering\n",
            "[INFO] Setting the trace of Clustering parameter\n",
            "[INFO] Setting the trace of Clustering concentration parameter\n",
            "[INFO] Setting the trace for diagnostic variables\n",
            "[INFO] ##########################################\n",
            "100%|██████████| 100/100 [00:55<00:00,  1.82it/s]\n",
            "[INFO] Inference total time: 0.5505436825752258/Gibb step\n",
            "[INFO] remove local traces\n",
            "[INFO] Denormalizing the parameters\n",
            "Mean growth rates for taxa over posterior [0.33364812 0.34639561 0.14685522 0.56857093 0.81607491 0.61426659\n",
            " 0.47428949 0.20878183 0.13801132 0.384382   0.18335012 0.28370546\n",
            " 0.67091816 0.14990233 0.46930492]\n"
          ]
        },
        {
          "output_type": "stream",
          "name": "stderr",
          "text": [
            "[ERROR] 25th percentile failed\n",
            "[ERROR] 75th percentile failed\n"
          ]
        },
        {
          "output_type": "stream",
          "name": "stdout",
          "text": [
            "[INFO] Number of clusters: 2\n",
            "[INFO] Clusters assigned: [0 0 0 0 1 0 0 1 1 1 0 0 1 0 0]\n"
          ]
        },
        {
          "output_type": "stream",
          "name": "stderr",
          "text": [
            "[ERROR] 25th percentile failed\n",
            "[ERROR] 75th percentile failed\n"
          ]
        },
        {
          "output_type": "display_data",
          "data": {
            "text/plain": [
              "<Figure size 432x288 with 2 Axes>"
            ],
            "image/png": "[encoded data removed]"
          },
          "metadata": {
            "needs_background": "light"
          }
        },
        {
          "output_type": "display_data",
          "data": {
            "text/plain": [
              "<Figure size 432x288 with 2 Axes>"
            ],
            "image/png": "[encoded data removed]"
          },
          "metadata": {
            "needs_background": "light"
          }
        },
        {
          "output_type": "display_data",
          "data": {
            "text/plain": [
              "<Figure size 720x720 with 2 Axes>"
            ],
            "image/png": "[encoded data removed]"
          },
          "metadata": {
            "needs_background": "light"
          }
        },
        {
          "output_type": "display_data",
          "data": {
            "text/plain": [
              "<Figure size 432x288 with 2 Axes>"
            ],
            "image/png": "[encoded data removed]"
          },
          "metadata": {
            "needs_background": "light"
          }
        },
        {
          "output_type": "display_data",
          "data": {
            "text/plain": [
              "<Figure size 432x288 with 2 Axes>"
            ],
            "image/png": "[encoded data removed]"
          },
          "metadata": {
            "needs_background": "light"
          }
        },
        {
          "output_type": "display_data",
          "data": {
            "text/plain": [
              "<Figure size 432x288 with 2 Axes>"
            ],
            "image/png": "[encoded data removed]"
          },
          "metadata": {
            "needs_background": "light"
          }
        },
        {
          "output_type": "display_data",
          "data": {
            "text/plain": [
              "<Figure size 720x720 with 2 Axes>"
            ],
            "image/png": "[encoded data removed]"
          },
          "metadata": {
            "needs_background": "light"
          }
        },
        {
          "output_type": "display_data",
          "data": {
            "text/plain": [
              "<Figure size 432x288 with 2 Axes>"
            ],
            "image/png": "[encoded data removed]"
          },
          "metadata": {
            "needs_background": "light"
          }
        }
      ],
      "source": [
        "# Get a0 and a1 from negbin (get the mean of the posterior) and fixes them for inference\n",
        "a0 = md2.summary(mcmc_negbin.graph[STRNAMES.NEGBIN_A0])['mean']\n",
        "a1 = md2.summary(mcmc_negbin.graph[STRNAMES.NEGBIN_A1])['mean']\n",
        "\n",
        "# Save a0 and a1 for next tutorial\n",
        "np.savez('./negbin_params.npz', a0=a0, a1=a1)\n",
        "\n",
        "seeds = [0, 1]\n",
        "chains = []\n",
        "\n",
        "for seed in seeds:\n",
        "    chain_basepath = output_dir / \"mdsine2\" / (healthy.name + \"{:04d}\".format(seed))\n",
        "    chain_basepath.mkdir(exist_ok=True, parents=True)\n",
        "\n",
        "    # Initialize parameters of the model \n",
        "    params = md2.config.MDSINE2ModelConfig(\n",
        "        basepath=str(chain_basepath), \n",
        "        seed=seed,\n",
        "        burnin=50, \n",
        "        n_samples=100, \n",
        "        negbin_a0=a0, negbin_a1=a1, \n",
        "        checkpoint=50\n",
        "    )\n",
        "\n",
        "    # The default number of modules is 30, which is larger than the number of taxa\n",
        "    # that we have in this dataset, which would throw a flag.\n",
        "    params.INITIALIZATION_KWARGS[STRNAMES.CLUSTERING]['value_option'] = 'no-clusters'\n",
        "\n",
        "    # Initilize the graph\n",
        "    mcmc = md2.initialize_graph(params=params, graph_name=healthy.name, subjset=healthy)\n",
        "\n",
        "    # Perform inference\n",
        "    mcmc = md2.run_graph(mcmc, crash_if_error=True)\n",
        "\n",
        "    visualize(mcmc, healthy, seed)\n",
        "    chains.append(mcmc)\n"
      ]
    },
    {
      "cell_type": "code",
      "execution_count": 19,
      "metadata": {
        "id": "9w54XeQ9nDyE",
        "outputId": "de74112f-d98d-4846-f5dc-679e60201b06",
        "colab": {
          "base_uri": "https://localhost:8080/"
        }
      },
      "outputs": [
        {
          "output_type": "stream",
          "name": "stdout",
          "text": [
            "Growth parameter r-hat: [1.3024079  1.12445614 1.13815919 1.26060763 1.01517965 2.30267948\n",
            " 1.15960078 0.98702281 0.9759982  0.97307537 1.31824091 0.97838924\n",
            " 1.0283582  1.55207946 1.63371716]\n",
            "Concentration parameter r-hat: [1.98725417]\n",
            "Process variance parameter r-hat: [2.01244564]\n"
          ]
        }
      ],
      "source": [
        "start = 10\n",
        "end = 20\n",
        "vname = STRNAMES.GROWTH_VALUE\n",
        "\n",
        "rhat = md2.pylab.inference.r_hat(chains, start=start, end=end, vname=vname)\n",
        "print('Growth parameter r-hat:', rhat)\n",
        "\n",
        "vname = STRNAMES.CONCENTRATION\n",
        "rhat = md2.pylab.inference.r_hat(chains, start=start, end=end, vname=vname)\n",
        "print('Concentration parameter r-hat:', rhat)\n",
        "\n",
        "vname = STRNAMES.PROCESSVAR\n",
        "rhat = md2.pylab.inference.r_hat(chains, start=start, end=end, vname=vname)\n",
        "print('Process variance parameter r-hat:', rhat)\n"
      ]
    },
    {
      "cell_type": "code",
      "execution_count": 20,
      "metadata": {
        "id": "P8Uj3JgFnDyE",
        "outputId": "ee4badb2-b900-4ad4-a44e-e8927d257be4",
        "colab": {
          "base_uri": "https://localhost:8080/"
        }
      },
      "outputs": [
        {
          "output_type": "stream",
          "name": "stdout",
          "text": [
            "[INFO] max_value found: 551243918704.4608, scaling_factor: 1.8140789695244354e-10\n",
            "[INFO] Normalizing abundances for a max value of 100. Normalization constant: 1.8141E-10\n",
            "[INFO] There are 305 qPCR measurements for 3 buckets. Each bucket is 101 measurements long\n",
            "[INFO] Initializing Filtering\n",
            "[INFO] Setting up the essential timepoints\n",
            "[INFO] Essential timepoints: [ 0.   0.5  1.   1.5  2.   2.5  3.   3.5  4.   4.5  5.   6.   7.   8.\n",
            "  9.  10.  11.  14.  16.  18.  21.  21.5 22.  22.5 23.  23.5 24.  25.\n",
            " 28.  28.5 29.  29.5 30.  30.5 31.  31.5 32.  33.  35.  35.5 36.  36.5\n",
            " 37.  37.5 38.  39.  42.  42.5 43.  43.5 44.  44.5 45.  45.5 46.  47.\n",
            " 50.  50.5 51.  51.5 52.  52.5 53.  54.  57.  57.5 58.  58.5 59.  59.5\n",
            " 60.  60.5 61.  62.  63.  64.  64.5]\n",
            "[INFO] Initializing Zero inflation\n"
          ]
        },
        {
          "output_type": "stream",
          "name": "stderr",
          "text": [
            "[WARNING] `zero_inflation_transition_policy` is None so we are not doing anything\n"
          ]
        },
        {
          "output_type": "stream",
          "name": "stdout",
          "text": [
            "[INFO] Initializing LHS vector\n",
            "[INFO] Initializing growth design matrix\n",
            "[INFO] Initializing self-interactions design matrix\n",
            "[INFO] Initializing Clustering concentration parameter\n",
            "[INFO] Cluster Concentration initialization results:\n",
            "\tprior shape: 1e-05\n",
            "\tprior scale: 100000.0\n",
            "\tvalue: 1.0\n",
            "[INFO] Initializing Clustering parameter\n",
            "[INFO] Fixed topology initialization\n"
          ]
        },
        {
          "output_type": "stream",
          "name": "stderr",
          "text": [
            "[ERROR] 25th percentile failed\n",
            "[ERROR] 75th percentile failed\n"
          ]
        },
        {
          "output_type": "stream",
          "name": "stdout",
          "text": [
            "[INFO] Number of clusters: 2\n",
            "[INFO] Clusters assigned: [0 0 0 0 1 0 0 1 1 1 0 0 1 0 0]\n",
            "[INFO] Clustering set to:\n",
            "Clustering object (contains ability to change the cluster assignments), n_clusters: 2\n",
            "Cluster 100490\n",
            "\tmembers: ['ASV_1', 'ASV_2', 'ASV_3', 'ASV_4', 'ASV_6', 'ASV_7', 'ASV_11', 'ASV_12', 'ASV_14', 'ASV_15']\n",
            "\tsize: 10\n",
            "Cluster 100491\n",
            "\tmembers: ['ASV_5', 'ASV_8', 'ASV_9', 'ASV_10', 'ASV_13']\n",
            "\tsize: 5\n",
            "[INFO] Cluster Assingments initialization results:\n",
            "Clustering object (contains ability to change the cluster assignments), n_clusters: 2\n",
            "Cluster 100115\n",
            "\tmembers: ['ASV_1', 'ASV_2', 'ASV_3', 'ASV_4', 'ASV_6', 'ASV_7', 'ASV_11', 'ASV_12', 'ASV_14', 'ASV_15']\n",
            "\tsize: 10\n",
            "Cluster 100116\n",
            "\tmembers: ['ASV_5', 'ASV_8', 'ASV_9', 'ASV_10', 'ASV_13']\n",
            "\tsize: 5\n",
            "[INFO] Initializing Process Variance parameter\n",
            "[INFO] Initializing Mean parameter for the truncated normal prior of the growth parameter\n",
            "[INFO] Initializing Variance parameter for the truncated normal prior of the growth parameter\n",
            "[INFO] Initializing Growth parameter\n",
            "[INFO] Growth value initialization: [0.18038416 1.20264921 0.31366964 1.14534092 0.92218341 1.13687769\n",
            " 1.1960567  0.72346211 0.28539801 0.86332751 0.51468723 0.18244579\n",
            " 0.5994922  0.06392036 0.222928  ]\n",
            "[INFO] Growth prior mean: 1\n",
            "[INFO] Growth truncation settings: (0.0, inf)\n",
            "[INFO] Initializing Mean parameter for the truncated normal prior of the self-interaction parameter\n",
            "[INFO] Initializing Variance parameter for the truncated normal prior of the self-interaction parameter\n",
            "[INFO] Initializing Self interaction parameter\n",
            "[INFO] Self-interactions value initialization: [ 0.06372063  0.30077717  0.58925969  0.13764007  0.08587689  0.35861243\n",
            "  0.50995595  0.20199178 13.14925109  0.24755357  3.97970114  0.07661544\n",
            "  0.36039847  0.26287186  0.18463889]\n",
            "[INFO] Self-interactions truncation settings: (0, inf)\n",
            "[INFO] Initializing Mean parameter for the normal prior of the interaction parameter\n",
            "[INFO] Initializing Variance parameter for the normal prior of the interaction parameter\n",
            "[INFO] Prior Variance Interactions initialization results:\n",
            "\tprior dof: 2.01\n",
            "\tprior scale: 3.4378912654321585\n",
            "\tvalue: 691.0161443518786\n",
            "[INFO] Initializing Cluster interaction value parameter\n",
            "[INFO] Initializing Cluster interaction indicator parameter\n",
            "[INFO] Initializing interactions base design matrix\n",
            "[INFO] Initialized interactions mixing design matrix\n",
            "[INFO] Initializing interactions matrix\n",
            "[INFO] Initializing Cluster interaction probability\n",
            "[INFO] Indicator Probability initialization results:\n",
            "\tprior a: 0.5\n",
            "\tprior b: 4.9146595004514415\n",
            "\tvalue: 0.09234190994988938\n",
            "[INFO] Initializing Mean parameter for the normal prior of the perturbation parameter\n",
            "[INFO] Initializing Variance parameter for the normal prior of the perturbation parameter\n",
            "[INFO] Prior Variance Interactions initialization results:\n",
            "\tprior dof: 2.5\n",
            "\tprior scale: 2000.0\n",
            "\tvalue: 10000.0\n",
            "[INFO] Prior Variance Interactions initialization results:\n",
            "\tprior dof: 2.5\n",
            "\tprior scale: 2000.0\n",
            "\tvalue: 10000.0\n",
            "[INFO] Prior Variance Interactions initialization results:\n",
            "\tprior dof: 2.5\n",
            "\tprior scale: 2000.0\n",
            "\tvalue: 10000.0\n",
            "[INFO] Initializing Perturbation indicator parameter\n",
            "[INFO] Perturbation indicator initialization results:\n",
            "\tPerturbation 0:\n",
            "\t\tindicator: [False False]\n",
            "\tPerturbation 1:\n",
            "\t\tindicator: [False False]\n",
            "\tPerturbation 2:\n",
            "\t\tindicator: [False False]\n",
            "\n",
            "[INFO] Initializing Perturbation value parameter\n",
            "[INFO] Perturbation magnitude initialization results:\n",
            "\tPerturbation High Fat Diet:\n",
            "\t\tvalue: [0. 0.]\n",
            "\tPerturbation Vancomycin:\n",
            "\t\tvalue: [0. 0.]\n",
            "\tPerturbation Gentamicin:\n",
            "\t\tvalue: [0. 0.]\n",
            "\n",
            "[INFO] Initializing Probability parameter for the beta prior of the perturbation indicator parameter\n",
            "[INFO] Perturbation indicator probability initialization results:\n",
            "\tPerturbation 0:\n",
            "\t\tprior a: 0.5\n",
            "\t\tprior b: 2.772588722239781\n",
            "\t\tvalue: 0.1527842458791451\n",
            "\tPerturbation 1:\n",
            "\t\tprior a: 0.5\n",
            "\t\tprior b: 2.772588722239781\n",
            "\t\tvalue: 0.1527842458791451\n",
            "\tPerturbation 2:\n",
            "\t\tprior a: 0.5\n",
            "\t\tprior b: 2.772588722239781\n",
            "\t\tvalue: 0.1527842458791451\n",
            "\n",
            "[INFO] Initializing Logistic growth parameters (growth, self-interactions, interactions/perturbations)\n",
            "[INFO] Initializing qPCR hyperprior scales\n",
            "[INFO] Initializing qPCR hyperprior degrees of freedom\n",
            "[INFO] Initializing qPCR variances\n",
            "[INFO] \n",
            "\n",
            "\n",
            "\n",
            "[INFO] Initialization Values:\n",
            "[INFO] Growth\n",
            "[INFO] \tprior.loc: 1\n",
            "[INFO] \tprior.scale2: 3593.9089396896247\n",
            "[INFO] \tvalue: [0.18038416 1.20264921 0.31366964 1.14534092 0.92218341 1.13687769\n",
            " 1.1960567  0.72346211 0.28539801 0.86332751 0.51468723 0.18244579\n",
            " 0.5994922  0.06392036 0.222928  ]\n",
            "[INFO] Self-Interactions\n",
            "[INFO] \tprior.loc: 0.262871859344411\n",
            "[INFO] \tprior.scale2: 691.0161443518786\n",
            "[INFO] \tvalue: [ 0.06372063  0.30077717  0.58925969  0.13764007  0.08587689  0.35861243\n",
            "  0.50995595  0.20199178 13.14925109  0.24755357  3.97970114  0.07661544\n",
            "  0.36039847  0.26287186  0.18463889]\n",
            "[INFO] Prior Variance Growth\n",
            "[INFO] \tprior.dof: 2.5\n",
            "[INFO] \tprior.scale: 718.781787937925\n",
            "[INFO] \tvalue: 3593.9089396896247\n",
            "[INFO] Prior Variance Self-Interactions\n",
            "[INFO] \tprior.dof: 2.5\n",
            "[INFO] \tprior.scale: 138.2032288703757\n",
            "[INFO] \tvalue: 691.0161443518786\n",
            "[INFO] Prior Variance Interactions\n",
            "[INFO] \tprior.dof: 2.01\n",
            "[INFO] \tprior.scale: 3.4378912654321585\n",
            "[INFO] \tvalue: 691.0161443518786\n",
            "[INFO] Process Variance\n",
            "[INFO] \tprior.dof: 2.5\n",
            "[INFO] \tprior.scale: 0.008000000000000002\n",
            "[INFO] \tprior mean: 0.04000000000000001\n",
            "[INFO] Concentration\n",
            "[INFO] \tprior.shape: 1e-05\n",
            "[INFO] \tprior.scale: 100000.0\n",
            "[INFO] \tvalue: 1.0\n",
            "[INFO] Indicator probability\n",
            "[INFO] \tprior.a: 0.5\n",
            "[INFO] \tprior.b: 4.9146595004514415\n",
            "[INFO] \tvalue: 0.09234190994988938\n",
            "[INFO] Perturbation values:\n",
            "[INFO] \tperturbation High Fat Diet\n",
            "[INFO] \t\tvalue: {100115: 0, 100116: 0}\n",
            "[INFO] \t\tprior.loc: 0\n",
            "[INFO] \tperturbation Vancomycin\n",
            "[INFO] \t\tvalue: {100115: 0, 100116: 0}\n",
            "[INFO] \t\tprior.loc: 0\n",
            "[INFO] \tperturbation Gentamicin\n",
            "[INFO] \t\tvalue: {100115: 0, 100116: 0}\n",
            "[INFO] \t\tprior.loc: 0\n",
            "[INFO] Perturbation prior variances:\n",
            "[INFO] \t\tdof: 2.5\n",
            "[INFO] \t\tscale: 2000.0\n",
            "[INFO] \t\tvalue: 10000.0\n",
            "[INFO] \t\tdof: 2.5\n",
            "[INFO] \t\tscale: 2000.0\n",
            "[INFO] \t\tvalue: 10000.0\n",
            "[INFO] \t\tdof: 2.5\n",
            "[INFO] \t\tscale: 2000.0\n",
            "[INFO] \t\tvalue: 10000.0\n",
            "[INFO] Perturbation indicators:\n",
            "[INFO] \tperturbation High Fat Diet: [False False]\n",
            "[INFO] \tperturbation Vancomycin: [False False]\n",
            "[INFO] \tperturbation Gentamicin: [False False]\n",
            "[INFO] Perturbation indicator probability:\n",
            "[INFO] \tperturbation High Fat Diet\n",
            "[INFO] \t\tvalue: 0.1527842458791451\n",
            "[INFO] \t\tprior.a: 0.5\n",
            "[INFO] \t\tprior.b: 2.772588722239781\n",
            "[INFO] \tperturbation Vancomycin\n",
            "[INFO] \t\tvalue: 0.1527842458791451\n",
            "[INFO] \t\tprior.a: 0.5\n",
            "[INFO] \t\tprior.b: 2.772588722239781\n",
            "[INFO] \tperturbation Gentamicin\n",
            "[INFO] \t\tvalue: 0.1527842458791451\n",
            "[INFO] \t\tprior.a: 0.5\n",
            "[INFO] \t\tprior.b: 2.772588722239781\n",
            "[INFO] Setting Single Write, Multiple Read Mode\n",
            "[INFO] Setting the trace of learned parameters\n",
            "[INFO] #######################################\n",
            "[INFO] Setting the trace of Cluster interaction indicator parameter\n",
            "[INFO] Setting the trace of Cluster interaction probability\n",
            "[INFO] Setting the trace of Perturbation indicator parameter\n",
            "[INFO] Setting the trace of Probability parameter for the beta prior of the perturbation indicator parameter\n",
            "[INFO] Setting the trace of Logistic growth parameters (growth, self-interactions, interactions/perturbations)\n",
            "[INFO] Setting the trace of Mean parameter for the normal prior of the interaction parameter\n",
            "[INFO] Setting the trace of Mean parameter for the normal prior of the perturbation parameter\n",
            "[INFO] Setting the trace of Mean parameter for the truncated normal prior of the growth parameter\n",
            "[INFO] Setting the trace of Mean parameter for the truncated normal prior of the self-interaction parameter\n",
            "[INFO] Setting the trace of Variance parameter for the normal prior of the interaction parameter\n",
            "[INFO] Setting the trace of Variance parameter for the normal prior of the perturbation parameter\n",
            "[INFO] Setting the trace of Process Variance parameter\n",
            "[INFO] Setting the trace of Filtering\n",
            "[INFO] Setting the trace for diagnostic variables\n",
            "[INFO] ##########################################\n",
            "100%|██████████| 100/100 [00:47<00:00,  2.12it/s]\n",
            "[INFO] Inference total time: 0.47207170963287354/Gibb step\n",
            "[INFO] remove local traces\n",
            "[INFO] Denormalizing the parameters\n"
          ]
        }
      ],
      "source": [
        "# Consennss clustering\n",
        "basepath = output_dir / 'mdsine2-fixed-cluster'\n",
        "basepath.mkdir(exist_ok=True)\n",
        "\n",
        "# Use the clustering from a previous as the clustering assignment\n",
        "params = md2.config.MDSINE2ModelConfig(\n",
        "    basepath=basepath, seed=0, burnin=50, n_samples=100, \n",
        "    negbin_a0=a0, negbin_a1=a1, checkpoint=50)\n",
        "\n",
        "# Do not learn the clustering parameters\n",
        "params.LEARN[STRNAMES.CLUSTERING] = False\n",
        "params.LEARN[STRNAMES.CONCENTRATION] = False\n",
        "\n",
        "# Set the initialization option for clustering\n",
        "params.INITIALIZATION_KWARGS[STRNAMES.CLUSTERING]['value_option'] = 'fixed-clustering'\n",
        "params.INITIALIZATION_KWARGS[STRNAMES.CLUSTERING]['value'] = str(chain_basepath / \"mcmc.pkl\")\n",
        "\n",
        "mcmc = md2.initialize_graph(params=params, graph_name=healthy.name, subjset=healthy)\n",
        "mcmc = md2.run_graph(mcmc, crash_if_error=True)\n"
      ]
    },
    {
      "cell_type": "code",
      "execution_count": 21,
      "metadata": {
        "id": "NCaMsIitnDyF",
        "outputId": "aa0e53b4-30a6-439e-b99b-f771bbaea084",
        "colab": {
          "base_uri": "https://localhost:8080/",
          "height": 602
        }
      },
      "outputs": [
        {
          "output_type": "stream",
          "name": "stderr",
          "text": [
            "[WARNING] Automatically setting xlabels as index because there are no taxa\n"
          ]
        },
        {
          "output_type": "display_data",
          "data": {
            "text/plain": [
              "<Figure size 720x720 with 2 Axes>"
            ],
            "image/png": "[encoded data removed]"
          },
          "metadata": {
            "needs_background": "light"
          }
        }
      ],
      "source": [
        "# Plot bayes factors for module-module interactions\n",
        "clustering = mcmc.graph[STRNAMES.CLUSTERING_OBJ]\n",
        "bf_taxa = md2.generate_interation_bayes_factors_posthoc(mcmc)\n",
        "bf_clustering = md2.condense_fixed_clustering_interaction_matrix(bf_taxa, clustering=clustering)\n",
        "\n",
        "labels = ['Cluster {} | {}'.format(i+1, i+1) for i in range(len(clustering))]\n",
        "md2.visualization.render_bayes_factors(bf_clustering, yticklabels=labels)\n",
        "plt.savefig(fig_dir / 'posterior_fix_assignments_{:04d}.png'.format(seed))"
      ]
    },
    {
      "cell_type": "code",
      "execution_count": null,
      "metadata": {
        "id": "UzkmXXR3nDyF"
      },
      "outputs": [],
      "source": [
        "\n",
        "\n",
        "\n"
      ]
    }
  ],
  "metadata": {
    "kernelspec": {
      "display_name": "mdsine2",
      "language": "python",
      "name": "python3"
    },
    "language_info": {
      "codemirror_mode": {
        "name": "ipython",
        "version": 3
      },
      "file_extension": ".py",
      "mimetype": "text/x-python",
      "name": "python",
      "nbconvert_exporter": "python",
      "pygments_lexer": "ipython3",
      "version": "3.10.8"
    },
    "orig_nbformat": 4,
    "vscode": {
      "interpreter": {
        "hash": "beba50113cf04c9ca1c9a3ac6af58136127bf597d62df57e30b29cd1f5120155"
      }
    },
    "colab": {
      "provenance": []
    }
  },
  "nbformat": 4,
  "nbformat_minor": 0
}