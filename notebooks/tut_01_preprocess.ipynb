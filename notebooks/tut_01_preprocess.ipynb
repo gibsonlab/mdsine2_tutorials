{
 "cells": [
  {
   "attachments": {},
   "cell_type": "markdown",
   "metadata": {},
   "source": [
    "[![Open In Colab](https://colab.research.google.com/assets/colab-badge.svg)](https://colab.research.google.com/github/gibsonlab/mdsine2_tutorials/blob/main/notebooks/tut_01_preprocess.ipynb)"
   ]
  },
  {
   "cell_type": "markdown",
   "metadata": {},
   "source": [
    " # Data wrangling\n",
    " Data organization and formatting is an important part of any workflow. For the current dataset (`./data/raw_tables/), we will:\n",
    " 1. Remove a subject with incomplete data (a mouse jumped out of it's cage)\n",
    " 2. Identify and seperate various experimental conditions\n",
    "     - Healthy subjects\n",
    "     - Unhealthy subjects\n",
    "     - Subjects with physical replicate qPCR data\n",
    " 3. Make smaller \"toy\" datasets to use in the other tutorials"
   ]
  },
  {
   "cell_type": "code",
   "execution_count": null,
   "metadata": {},
   "outputs": [],
   "source": [
    "import sys\n",
    "IN_COLAB = 'google.colab' in sys.modules\n",
    "\n",
    "if IN_COLAB:\n",
    "    !git clone https://github.com/gerberlab/MDSINE2\n",
    "    !cd MDSINE2 && git fetch && git checkout cv-wip-mirror-dem\n",
    "    !pip install MDSINE2/."
   ]
  },
  {
   "cell_type": "code",
   "execution_count": null,
   "metadata": {},
   "outputs": [],
   "source": [
    "import pandas as pd\n",
    "from pathlib import Path\n",
    "import mdsine2 as md2\n",
    "from mdsine2.util import make_toy\n"
   ]
  },
  {
   "cell_type": "code",
   "execution_count": null,
   "metadata": {},
   "outputs": [],
   "source": [
    "# Specify data input and output directories\n",
    "data_dir = Path('../data/')\n",
    "raw_data_dir = data_dir / 'raw_tables'\n",
    "healthy_data_dir = data_dir / 'healthy'\n",
    "unhealthy_data_dir = data_dir / 'unhealthy'\n",
    "replicates_data_dir = data_dir / 'replicates'\n",
    "\n",
    "for ff in [healthy_data_dir, unhealthy_data_dir, replicates_data_dir]:\n",
    "    ff.mkdir(parents=True, exist_ok=True)\n"
   ]
  },
  {
   "cell_type": "code",
   "execution_count": null,
   "metadata": {},
   "outputs": [],
   "source": [
    "# Read the data files\n",
    "data = {}\n",
    "tsv_files = sorted(raw_data_dir.glob('*.tsv'))\n",
    "\n",
    "sep = '\\t'\n",
    "\n",
    "for tsv_f in tsv_files:\n",
    "    data[tsv_f.stem] = pd.read_csv(tsv_f, index_col=0, sep=sep)\n"
   ]
  },
  {
   "cell_type": "markdown",
   "metadata": {},
   "source": [
    " ### Task 1: Identify subjects that have no associated qpcr data"
   ]
  },
  {
   "cell_type": "code",
   "execution_count": null,
   "metadata": {},
   "outputs": [],
   "source": [
    "subj_counts = set(data['counts'].columns.to_list())\n",
    "subj_qpcr = set(data['qpcr'].index.to_list())\n",
    "\n",
    "subj_counts_only = list(subj_counts - subj_qpcr)\n",
    "\n",
    "data['counts'] = data['counts'].drop(columns=subj_counts_only)\n",
    "data['metadata'] = data['metadata'].drop(index=subj_counts_only)\n"
   ]
  },
  {
   "cell_type": "markdown",
   "metadata": {},
   "source": [
    " ### Task 2: Identify replicate data"
   ]
  },
  {
   "cell_type": "code",
   "execution_count": null,
   "metadata": {},
   "outputs": [],
   "source": [
    "# Create a function to extract data based on a given tag.\n",
    "\n",
    "def identify_subjects_by_tag(data, tags, exclude=False):\n",
    "    \"\"\" Filter out subjects by a tag.\n",
    "    \"\"\"\n",
    "    data = data.copy()\n",
    "    all_subj_ids = data['counts'].columns\n",
    "\n",
    "    filter_func = lambda x: any([x.startswith(t) for t in tags])\n",
    "    subj_ids = list(filter(filter_func, all_subj_ids))\n",
    "\n",
    "    if exclude:\n",
    "        subj_ids = sorted(set(data['counts'].columns) - set(subj_ids))\n",
    "    \n",
    "    data['counts'] = data['counts'][subj_ids]\n",
    "    data['metadata'] = data['metadata'].loc[subj_ids]\n",
    "    data['qpcr'] = data['qpcr'].loc[subj_ids]\n",
    "    return data\n",
    "    "
   ]
  },
  {
   "cell_type": "code",
   "execution_count": null,
   "metadata": {},
   "outputs": [],
   "source": [
    "# First identify replicates and save data\n",
    "rep_tag = \"M2-\"\n",
    "tags = [rep_tag]\n",
    "\n",
    "replicates = identify_subjects_by_tag(data, tags)\n",
    "\n",
    "# Write data to subjects directory\n",
    "for key in replicates.keys():\n",
    "    replicates[key].to_csv(\n",
    "        replicates_data_dir / (key + '.tsv'),\n",
    "        sep=sep, \n",
    "        index=True, \n",
    "        header=True,\n",
    "        )\n"
   ]
  },
  {
   "cell_type": "code",
   "execution_count": null,
   "metadata": {},
   "outputs": [],
   "source": [
    "# Then identify subject data only by excluding the replicate and inoculum data.\n",
    "healthy_tags = ['2-', '3-', '4-', '5-']\n",
    "unhealthy_tags = ['6-', '7-', '8-', '9-', '10-']\n",
    "\n",
    "healthy = identify_subjects_by_tag(data, healthy_tags)\n",
    "unhealthy = identify_subjects_by_tag(data, unhealthy_tags)\n",
    "\n",
    "# Write data to subjects directory\n",
    "for key in healthy.keys():\n",
    "    healthy[key].to_csv(\n",
    "        healthy_data_dir / (key + '.tsv'),\n",
    "        sep=sep, \n",
    "        index=True, \n",
    "        header=True,\n",
    "        )\n",
    "\n",
    "for key in unhealthy.keys():\n",
    "    unhealthy[key].to_csv(\n",
    "        unhealthy_data_dir / (key + '.tsv'),\n",
    "        sep=sep, \n",
    "        index=True, \n",
    "        header=True,\n",
    "        )\n"
   ]
  },
  {
   "cell_type": "markdown",
   "metadata": {},
   "source": [
    " ### Task 3: Make toy datasets"
   ]
  },
  {
   "cell_type": "code",
   "execution_count": null,
   "metadata": {},
   "outputs": [],
   "source": [
    "# Read in the preprocessed files, and make toy datasets.\n",
    "for ff in [healthy_data_dir, unhealthy_data_dir, replicates_data_dir]:\n",
    "    tsv_files = sorted(ff.glob('*.tsv'))\n",
    "    tsv_files = {f.stem : f for f in tsv_files}\n",
    "\n",
    "    # Create a small toy dataset from full dataset\n",
    "    toy_study = make_toy(\n",
    "        metadata_f=tsv_files['metadata'],\n",
    "        qpcr_f=tsv_files['qpcr'],\n",
    "        reads_f=tsv_files['counts'],\n",
    "        taxa_f=tsv_files['rdp_species'],\n",
    "        perturbations_f=tsv_files['perturbations'],\n",
    "        n_taxa=15,\n",
    "        )\n"
   ]
  }
 ],
 "metadata": {
  "kernelspec": {
   "display_name": "mdsine2",
   "language": "python",
   "name": "python3"
  },
  "language_info": {
   "codemirror_mode": {
    "name": "ipython",
    "version": 3
   },
   "file_extension": ".py",
   "mimetype": "text/x-python",
   "name": "python",
   "nbconvert_exporter": "python",
   "pygments_lexer": "ipython3",
   "version": "3.10.8"
  },
  "orig_nbformat": 4,
  "vscode": {
   "interpreter": {
    "hash": "beba50113cf04c9ca1c9a3ac6af58136127bf597d62df57e30b29cd1f5120155"
   }
  }
 },
 "nbformat": 4,
 "nbformat_minor": 2
}
